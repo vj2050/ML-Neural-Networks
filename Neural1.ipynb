{
 "cells": [
  {
   "cell_type": "markdown",
   "metadata": {},
   "source": [
    "## VAISHNAVI JAMDADE(TM39453)"
   ]
  },
  {
   "cell_type": "code",
   "execution_count": 1,
   "metadata": {},
   "outputs": [],
   "source": [
    "import pandas as pd\n",
    "import matplotlib.pyplot as plt\n",
    "import idx2numpy\n",
    "import numpy as np\n",
    "from sklearn.model_selection import train_test_split\n",
    "from sklearn import preprocessing\n",
    "from sklearn.metrics import accuracy_score"
   ]
  },
  {
   "cell_type": "markdown",
   "metadata": {},
   "source": [
    "### Converting the file into numpy array of dimensions (60000,28,28)"
   ]
  },
  {
   "cell_type": "code",
   "execution_count": 2,
   "metadata": {},
   "outputs": [],
   "source": [
    "def convertfunc(file):\n",
    "    arr = idx2numpy.convert_from_file(file)\n",
    "    return arr"
   ]
  },
  {
   "cell_type": "code",
   "execution_count": 3,
   "metadata": {},
   "outputs": [],
   "source": [
    "X_train=convertfunc('train-images.idx3-ubyte')\n",
    "y_train=convertfunc('train-labels.idx1-ubyte')\n",
    "X_test=convertfunc('t10k-images.idx3-ubyte')\n",
    "y_test=convertfunc('t10k-labels.idx1-ubyte')"
   ]
  },
  {
   "cell_type": "code",
   "execution_count": 4,
   "metadata": {},
   "outputs": [
    {
     "data": {
      "text/plain": [
       "(60000, 28, 28)"
      ]
     },
     "execution_count": 4,
     "metadata": {},
     "output_type": "execute_result"
    }
   ],
   "source": [
    "X_train.shape"
   ]
  },
  {
   "cell_type": "code",
   "execution_count": 5,
   "metadata": {},
   "outputs": [
    {
     "data": {
      "text/plain": [
       "((10000, 28, 28), (60000,))"
      ]
     },
     "execution_count": 5,
     "metadata": {},
     "output_type": "execute_result"
    }
   ],
   "source": [
    "X_test.shape, y_train.shape"
   ]
  },
  {
   "cell_type": "markdown",
   "metadata": {},
   "source": [
    "### Reshaping the dataset :"
   ]
  },
  {
   "cell_type": "code",
   "execution_count": 6,
   "metadata": {},
   "outputs": [],
   "source": [
    "def reshapefunc(array,rows,columns):\n",
    "    array=array.reshape(rows,columns)\n",
    "    return array"
   ]
  },
  {
   "cell_type": "code",
   "execution_count": 7,
   "metadata": {},
   "outputs": [],
   "source": [
    "X_train=reshapefunc(X_train,60000,784)\n",
    "X_test=reshapefunc(X_test,10000,784)\n",
    "#y_train=reshapefunc(y_train,1,60000)\n",
    "#y_test=reshapefunc(y_test,1,10000)\n"
   ]
  },
  {
   "cell_type": "code",
   "execution_count": 8,
   "metadata": {},
   "outputs": [
    {
     "data": {
      "text/plain": [
       "((60000, 784), (10000, 784), (60000,), (10000,))"
      ]
     },
     "execution_count": 8,
     "metadata": {},
     "output_type": "execute_result"
    }
   ],
   "source": [
    "X_train.shape,X_test.shape, y_train.shape,y_test.shape\n"
   ]
  },
  {
   "cell_type": "markdown",
   "metadata": {},
   "source": [
    "### Using One hot label encoding:"
   ]
  },
  {
   "cell_type": "code",
   "execution_count": 9,
   "metadata": {},
   "outputs": [],
   "source": [
    "y_train = pd.get_dummies(y_train)\n",
    "y_train=np.array(y_train)\n"
   ]
  },
  {
   "cell_type": "code",
   "execution_count": 10,
   "metadata": {},
   "outputs": [
    {
     "data": {
      "text/plain": [
       "array([[0, 0, 0, ..., 0, 0, 0],\n",
       "       [1, 0, 0, ..., 0, 0, 0],\n",
       "       [0, 0, 0, ..., 0, 0, 0],\n",
       "       ...,\n",
       "       [0, 0, 0, ..., 0, 0, 0],\n",
       "       [0, 0, 0, ..., 0, 0, 0],\n",
       "       [0, 0, 0, ..., 0, 1, 0]], dtype=uint8)"
      ]
     },
     "execution_count": 10,
     "metadata": {},
     "output_type": "execute_result"
    }
   ],
   "source": [
    "y_train"
   ]
  },
  {
   "cell_type": "code",
   "execution_count": 11,
   "metadata": {},
   "outputs": [
    {
     "data": {
      "text/plain": [
       "((60000, 784), (10000, 784))"
      ]
     },
     "execution_count": 11,
     "metadata": {},
     "output_type": "execute_result"
    }
   ],
   "source": [
    "X_train.shape, X_test.shape"
   ]
  },
  {
   "cell_type": "markdown",
   "metadata": {},
   "source": [
    "### Initializing weights:"
   ]
  },
  {
   "cell_type": "code",
   "execution_count": 12,
   "metadata": {},
   "outputs": [],
   "source": [
    "def initialize_weights(inputs, hNeurons, oNeurons):\n",
    "\n",
    "    weights1=np.random.randn(inputs,hNeurons)*np.sqrt(1./inputs)    #784 rows 5 columns\n",
    "    bias1=np.zeros((1, hNeurons))*np.sqrt(1./inputs)\n",
    "    #hence x.w = 1,5 dimensions + bias [1,5]\n",
    "    weights2=np.random.randn(hNeurons,oNeurons)*np.sqrt(1./hNeurons)\n",
    "    #hence x.w= 5,10 dimensions + bias [1,10]\n",
    "    bias2= np.zeros((1, oNeurons))*np.sqrt(1./hNeurons)\n",
    "\n",
    "    #ouptut vecotr is going to be of dimensions [1,10] then softmax\n",
    "    #W1.shape , b1.shape, W2.shape, b2.shape\n",
    "    \n",
    "    return weights1, bias1, weights2, bias2\n"
   ]
  },
  {
   "cell_type": "markdown",
   "metadata": {},
   "source": [
    "### Sigmoid Activation Function:"
   ]
  },
  {
   "cell_type": "code",
   "execution_count": 13,
   "metadata": {},
   "outputs": [],
   "source": [
    "def sigmoid(z):\n",
    "    act = 1. / (1. + np.exp(-z))\n",
    "    return act"
   ]
  },
  {
   "cell_type": "markdown",
   "metadata": {},
   "source": [
    "### Softmax function :"
   ]
  },
  {
   "cell_type": "code",
   "execution_count": 14,
   "metadata": {},
   "outputs": [
    {
     "data": {
      "text/plain": [
       "'\\ndef softmax(z):\\n    softact = np.exp(z - np.max(z, axis=1, keepdims=True))\\n    softact=softact/np.sum(softact, axis=1, keepdims=True)\\n    \\n    return softact\\n'"
      ]
     },
     "execution_count": 14,
     "metadata": {},
     "output_type": "execute_result"
    }
   ],
   "source": [
    "#Normalising the values:\n",
    "\n",
    "def softmax(z):\n",
    "    softact = np.exp(z)/np.sum(np.exp(z), axis=1,keepdims=True)                                       \n",
    "    return softact\n",
    "\n",
    "'''\n",
    "def softmax(z):\n",
    "    softact = np.exp(z - np.max(z, axis=1, keepdims=True))\n",
    "    softact=softact/np.sum(softact, axis=1, keepdims=True)\n",
    "    \n",
    "    return softact\n",
    "'''"
   ]
  },
  {
   "cell_type": "markdown",
   "metadata": {},
   "source": [
    "### Feed Forward :"
   ]
  },
  {
   "cell_type": "code",
   "execution_count": 15,
   "metadata": {},
   "outputs": [],
   "source": [
    "def feedforward(X_train,W1,b1,W2,b2):\n",
    "    z1= np.dot(X_train,W1)+b1\n",
    "    h1=sigmoid(z1)\n",
    "    \n",
    "    z2=np.dot(h1,W2)+b2\n",
    "    output=softmax(z2)\n",
    "    return z1, h1, z2, output\n",
    "        "
   ]
  },
  {
   "cell_type": "markdown",
   "metadata": {},
   "source": [
    "### Error Function :"
   ]
  },
  {
   "cell_type": "code",
   "execution_count": 16,
   "metadata": {},
   "outputs": [],
   "source": [
    "def error(ypred,y_train):     \n",
    "    n_samples = y_train.shape[0]\n",
    "    L = (ypred-y_train)/n_samples\n",
    "    return L\n",
    "    "
   ]
  },
  {
   "cell_type": "markdown",
   "metadata": {},
   "source": [
    "### Cross Entropy Loss Function:"
   ]
  },
  {
   "cell_type": "code",
   "execution_count": 17,
   "metadata": {},
   "outputs": [],
   "source": [
    "\n",
    "def crossentropy(ypred,y_train):\n",
    "    L_sum = np.sum(np.multiply(y_train, np.log(ypred)))\n",
    "    num_samples = y_train.shape[0]\n",
    "    L = -(1./num_samples) * L_sum\n",
    "\n",
    "    return L"
   ]
  },
  {
   "cell_type": "markdown",
   "metadata": {},
   "source": [
    "### Sigmoid Derivation Function:"
   ]
  },
  {
   "cell_type": "code",
   "execution_count": 18,
   "metadata": {
    "scrolled": true
   },
   "outputs": [],
   "source": [
    "def sigmoid_derivative(h1):\n",
    "    deriv=h1*(1-h1)\n",
    "    return deriv"
   ]
  },
  {
   "cell_type": "markdown",
   "metadata": {},
   "source": [
    "### Backpropagation Function to compute Gradient Information:"
   ]
  },
  {
   "cell_type": "code",
   "execution_count": 19,
   "metadata": {},
   "outputs": [],
   "source": [
    "def backpropagation(h1,W2,ypred,y_train):\n",
    "    \n",
    "    #Calculate error\n",
    "    L=error(ypred,y_train)\n",
    "    \n",
    "    # z1, h1, z2, output\n",
    "    # z1, and z2 => dot products\n",
    "    # h1 and output => activations\n",
    "    change_output=L\n",
    "    #dL/dW2\n",
    "    delta_W2= np.dot(h1.T,change_output)\n",
    "    \n",
    "    #dL/db2\n",
    "    delta_b2= np.sum(change_output,axis=0,keepdims=True)\n",
    "    \n",
    "    #dL/dh1\n",
    "    delta_h1=np.dot(change_output,W2.T)\n",
    "    \n",
    "    change_h1= delta_h1*sigmoid_derivative(h1)\n",
    "    \n",
    "    #dL/dW1\n",
    "    delta_W1= np.dot(X_train.T, change_h1)\n",
    "    \n",
    "    #dL/db1\n",
    "    delta_b1= np.sum(change_h1,axis=0,keepdims=True)\n",
    "    \n",
    "    return delta_W2, delta_b2, delta_W1, delta_b1\n",
    "    "
   ]
  },
  {
   "cell_type": "markdown",
   "metadata": {},
   "source": [
    "### Function to update weights:"
   ]
  },
  {
   "cell_type": "code",
   "execution_count": 20,
   "metadata": {},
   "outputs": [],
   "source": [
    "def update_weights(alpha,W1,b1,W2,b2,delta_W2,delta_b2,delta_W1,delta_b1):\n",
    "    W2= W2- alpha*(delta_W2)\n",
    "    b2= b2 - alpha*(delta_b2)\n",
    "    W1= W1- alpha*(delta_W1)\n",
    "    b1=b1- alpha*(delta_b1)\n",
    "    \n",
    "    return W2,b2,W1,b1"
   ]
  },
  {
   "cell_type": "markdown",
   "metadata": {},
   "source": [
    "### Training Function:"
   ]
  },
  {
   "cell_type": "code",
   "execution_count": 21,
   "metadata": {},
   "outputs": [],
   "source": [
    "def training():\n",
    "    hNeurons=128                               #hidden neuron\n",
    "    inputs=X_train.shape[1]                   #number of inputs\n",
    "    oNeurons=y_train.shape[1]\n",
    "    alpha= 0.01                        #learning rate\n",
    "    epochs=100\n",
    "    \n",
    "    #retriving the actual labels for y_train:\n",
    "    labely_train=np.argmax(y_train,axis=1)\n",
    "    \n",
    "    #initialize weights\n",
    "    W1, b1, W2, b2= initialize_weights(inputs,hNeurons,oNeurons)\n",
    "    \n",
    "    for i in range(epochs):\n",
    "        \n",
    "        #feed forward\n",
    "        dotprod1, h1, dotprod2, output=feedforward(X_train,W1,b1,W2,b2)\n",
    "\n",
    "        #back propogate\n",
    "        delta_W2, delta_b2, delta_W1, delta_b1= backpropagation(h1,W2,output,y_train)\n",
    "        \n",
    "        #update weights using gradient descent\n",
    "        W2,b2,W1,b1=update_weights(alpha,W1,b1,W2,b2,delta_W2,delta_b2,delta_W1,delta_b1)\n",
    "\n",
    "        #again feed forward using updated weights\n",
    "        dotprod1, h1, dotprod2, output=feedforward(X_train,W1,b1,W2,b2)\n",
    "\n",
    "        #Calculating Total Loss\n",
    "        loss=crossentropy(output,y_train)                 # put in training func later\n",
    "        print(\"Epoch {}: training loss = {}\".format(i + 1,loss))\n",
    "        \n",
    "        \n",
    "        \n",
    "        #Retrieving the corresponding class labels:\n",
    "        labelpred=np.argmax(output,axis=1)\n",
    "        \n",
    "        #Training Accuracy:\n",
    "        accuracy = round((accuracy_score(labely_train, labelpred)*100),2)\n",
    "        print(\"Training Accuracy after Epoch {} : {}%\".format(i+1, accuracy))\n",
    "        \n",
    "    return W2,b2,W1,b1\n",
    "        \n"
   ]
  },
  {
   "cell_type": "code",
   "execution_count": 22,
   "metadata": {
    "scrolled": false
   },
   "outputs": [
    {
     "name": "stdout",
     "output_type": "stream",
     "text": [
      "Epoch 1: training loss = 2.5772442278369647\n",
      "Training Accuracy after Epoch 1 : 7.94%\n",
      "Epoch 2: training loss = 2.5063311704192204\n",
      "Training Accuracy after Epoch 2 : 8.36%\n",
      "Epoch 3: training loss = 2.4452462100527184\n",
      "Training Accuracy after Epoch 3 : 9.06%\n",
      "Epoch 4: training loss = 2.3916610658032345\n",
      "Training Accuracy after Epoch 4 : 9.89%\n",
      "Epoch 5: training loss = 2.3447142972356776\n",
      "Training Accuracy after Epoch 5 : 10.9%\n",
      "Epoch 6: training loss = 2.3017191934991574\n",
      "Training Accuracy after Epoch 6 : 12.17%\n",
      "Epoch 7: training loss = 2.2616384106740215\n",
      "Training Accuracy after Epoch 7 : 13.6%\n",
      "Epoch 8: training loss = 2.2235819588499184\n",
      "Training Accuracy after Epoch 8 : 15.33%\n",
      "Epoch 9: training loss = 2.1879372284300116\n",
      "Training Accuracy after Epoch 9 : 17.26%\n",
      "Epoch 10: training loss = 2.1544648429522493\n",
      "Training Accuracy after Epoch 10 : 19.37%\n",
      "Epoch 11: training loss = 2.12386305749903\n",
      "Training Accuracy after Epoch 11 : 21.57%\n",
      "Epoch 12: training loss = 2.095459668031324\n",
      "Training Accuracy after Epoch 12 : 23.92%\n",
      "Epoch 13: training loss = 2.068263395614056\n",
      "Training Accuracy after Epoch 13 : 26.32%\n",
      "Epoch 14: training loss = 2.0427469092402664\n",
      "Training Accuracy after Epoch 14 : 28.73%\n",
      "Epoch 15: training loss = 2.0185366025430147\n",
      "Training Accuracy after Epoch 15 : 30.97%\n",
      "Epoch 16: training loss = 1.9952464686140774\n",
      "Training Accuracy after Epoch 16 : 33.14%\n",
      "Epoch 17: training loss = 1.9728975216673081\n",
      "Training Accuracy after Epoch 17 : 35.17%\n",
      "Epoch 18: training loss = 1.9515740129972547\n",
      "Training Accuracy after Epoch 18 : 37.13%\n",
      "Epoch 19: training loss = 1.9310884117864946\n",
      "Training Accuracy after Epoch 19 : 38.9%\n",
      "Epoch 20: training loss = 1.9110086925158964\n",
      "Training Accuracy after Epoch 20 : 40.57%\n",
      "Epoch 21: training loss = 1.8914733960216992\n",
      "Training Accuracy after Epoch 21 : 42.14%\n",
      "Epoch 22: training loss = 1.872621777256584\n",
      "Training Accuracy after Epoch 22 : 43.77%\n",
      "Epoch 23: training loss = 1.8543817029445273\n",
      "Training Accuracy after Epoch 23 : 45.14%\n",
      "Epoch 24: training loss = 1.836779953690186\n",
      "Training Accuracy after Epoch 24 : 46.48%\n",
      "Epoch 25: training loss = 1.8198753102199101\n",
      "Training Accuracy after Epoch 25 : 47.76%\n",
      "Epoch 26: training loss = 1.8033122588272972\n",
      "Training Accuracy after Epoch 26 : 49.11%\n",
      "Epoch 27: training loss = 1.7871206473733297\n",
      "Training Accuracy after Epoch 27 : 50.32%\n",
      "Epoch 28: training loss = 1.7714900837553855\n",
      "Training Accuracy after Epoch 28 : 51.32%\n",
      "Epoch 29: training loss = 1.7562496849431153\n",
      "Training Accuracy after Epoch 29 : 52.43%\n",
      "Epoch 30: training loss = 1.7413946360573442\n",
      "Training Accuracy after Epoch 30 : 53.45%\n",
      "Epoch 31: training loss = 1.7269835162461664\n",
      "Training Accuracy after Epoch 31 : 54.44%\n",
      "Epoch 32: training loss = 1.712848774986584\n",
      "Training Accuracy after Epoch 32 : 55.3%\n",
      "Epoch 33: training loss = 1.6990480668188224\n",
      "Training Accuracy after Epoch 33 : 56.13%\n",
      "Epoch 34: training loss = 1.685507567562886\n",
      "Training Accuracy after Epoch 34 : 56.98%\n",
      "Epoch 35: training loss = 1.6720936139716545\n",
      "Training Accuracy after Epoch 35 : 57.79%\n",
      "Epoch 36: training loss = 1.6590031437404893\n",
      "Training Accuracy after Epoch 36 : 58.44%\n",
      "Epoch 37: training loss = 1.6465034687376021\n",
      "Training Accuracy after Epoch 37 : 59.12%\n",
      "Epoch 38: training loss = 1.634531902624362\n",
      "Training Accuracy after Epoch 38 : 59.72%\n",
      "Epoch 39: training loss = 1.6228807910355911\n",
      "Training Accuracy after Epoch 39 : 60.3%\n",
      "Epoch 40: training loss = 1.6113987803306435\n",
      "Training Accuracy after Epoch 40 : 60.88%\n",
      "Epoch 41: training loss = 1.6000686409623635\n",
      "Training Accuracy after Epoch 41 : 61.5%\n",
      "Epoch 42: training loss = 1.5889372169117786\n",
      "Training Accuracy after Epoch 42 : 62.0%\n",
      "Epoch 43: training loss = 1.5780104385901683\n",
      "Training Accuracy after Epoch 43 : 62.52%\n",
      "Epoch 44: training loss = 1.5673063843511268\n",
      "Training Accuracy after Epoch 44 : 62.99%\n",
      "Epoch 45: training loss = 1.5567983399157952\n",
      "Training Accuracy after Epoch 45 : 63.42%\n",
      "Epoch 46: training loss = 1.5464794849522274\n",
      "Training Accuracy after Epoch 46 : 63.85%\n",
      "Epoch 47: training loss = 1.536374997540033\n",
      "Training Accuracy after Epoch 47 : 64.29%\n",
      "Epoch 48: training loss = 1.5264199800353104\n",
      "Training Accuracy after Epoch 48 : 64.76%\n",
      "Epoch 49: training loss = 1.5165623782024482\n",
      "Training Accuracy after Epoch 49 : 65.21%\n",
      "Epoch 50: training loss = 1.5069012423998436\n",
      "Training Accuracy after Epoch 50 : 65.59%\n",
      "Epoch 51: training loss = 1.4974391077420854\n",
      "Training Accuracy after Epoch 51 : 66.01%\n",
      "Epoch 52: training loss = 1.4881134704876333\n",
      "Training Accuracy after Epoch 52 : 66.34%\n",
      "Epoch 53: training loss = 1.4788905855224022\n",
      "Training Accuracy after Epoch 53 : 66.74%\n",
      "Epoch 54: training loss = 1.4697643833886056\n",
      "Training Accuracy after Epoch 54 : 67.1%\n",
      "Epoch 55: training loss = 1.4608194383280966\n",
      "Training Accuracy after Epoch 55 : 67.45%\n",
      "Epoch 56: training loss = 1.4520803746787925\n",
      "Training Accuracy after Epoch 56 : 67.8%\n",
      "Epoch 57: training loss = 1.4435079637442532\n",
      "Training Accuracy after Epoch 57 : 68.15%\n",
      "Epoch 58: training loss = 1.4350610338468985\n",
      "Training Accuracy after Epoch 58 : 68.49%\n",
      "Epoch 59: training loss = 1.426707702137217\n",
      "Training Accuracy after Epoch 59 : 68.82%\n",
      "Epoch 60: training loss = 1.4184555660767568\n",
      "Training Accuracy after Epoch 60 : 69.08%\n",
      "Epoch 61: training loss = 1.4103604316317195\n",
      "Training Accuracy after Epoch 61 : 69.37%\n",
      "Epoch 62: training loss = 1.4024184248249862\n",
      "Training Accuracy after Epoch 62 : 69.63%\n",
      "Epoch 63: training loss = 1.3946044032797198\n",
      "Training Accuracy after Epoch 63 : 69.95%\n",
      "Epoch 64: training loss = 1.3868991492807288\n",
      "Training Accuracy after Epoch 64 : 70.22%\n",
      "Epoch 65: training loss = 1.3793145930643866\n",
      "Training Accuracy after Epoch 65 : 70.5%\n",
      "Epoch 66: training loss = 1.3718573808996606\n",
      "Training Accuracy after Epoch 66 : 70.76%\n",
      "Epoch 67: training loss = 1.364527580308065\n",
      "Training Accuracy after Epoch 67 : 71.05%\n",
      "Epoch 68: training loss = 1.3572864062499088\n",
      "Training Accuracy after Epoch 68 : 71.3%\n",
      "Epoch 69: training loss = 1.350105274509034\n",
      "Training Accuracy after Epoch 69 : 71.53%\n",
      "Epoch 70: training loss = 1.342983625386666\n",
      "Training Accuracy after Epoch 70 : 71.78%\n",
      "Epoch 71: training loss = 1.3359283898248064\n",
      "Training Accuracy after Epoch 71 : 72.05%\n",
      "Epoch 72: training loss = 1.3289493011710034\n",
      "Training Accuracy after Epoch 72 : 72.26%\n",
      "Epoch 73: training loss = 1.3220478665632207\n",
      "Training Accuracy after Epoch 73 : 72.47%\n",
      "Epoch 74: training loss = 1.3152196042401552\n",
      "Training Accuracy after Epoch 74 : 72.72%\n",
      "Epoch 75: training loss = 1.3084720522608915\n",
      "Training Accuracy after Epoch 75 : 72.88%\n",
      "Epoch 76: training loss = 1.3018092628005957\n",
      "Training Accuracy after Epoch 76 : 73.13%\n",
      "Epoch 77: training loss = 1.2952243023854346\n",
      "Training Accuracy after Epoch 77 : 73.28%\n",
      "Epoch 78: training loss = 1.2887309776584768\n",
      "Training Accuracy after Epoch 78 : 73.5%\n",
      "Epoch 79: training loss = 1.2823521086375023\n",
      "Training Accuracy after Epoch 79 : 73.66%\n",
      "Epoch 80: training loss = 1.2760992217952933\n",
      "Training Accuracy after Epoch 80 : 73.8%\n",
      "Epoch 81: training loss = 1.2699668845106844\n",
      "Training Accuracy after Epoch 81 : 73.98%\n",
      "Epoch 82: training loss = 1.2639462019011116\n",
      "Training Accuracy after Epoch 82 : 74.15%\n",
      "Epoch 83: training loss = 1.258018206649711\n",
      "Training Accuracy after Epoch 83 : 74.33%\n",
      "Epoch 84: training loss = 1.252179446575762\n",
      "Training Accuracy after Epoch 84 : 74.51%\n",
      "Epoch 85: training loss = 1.2464332868660464\n",
      "Training Accuracy after Epoch 85 : 74.68%\n",
      "Epoch 86: training loss = 1.2407671117530035\n",
      "Training Accuracy after Epoch 86 : 74.85%\n",
      "Epoch 87: training loss = 1.2351652136319797\n",
      "Training Accuracy after Epoch 87 : 75.01%\n",
      "Epoch 88: training loss = 1.2296155939497666\n",
      "Training Accuracy after Epoch 88 : 75.17%\n",
      "Epoch 89: training loss = 1.224111386832356\n",
      "Training Accuracy after Epoch 89 : 75.32%\n",
      "Epoch 90: training loss = 1.2186499962928379\n",
      "Training Accuracy after Epoch 90 : 75.44%\n",
      "Epoch 91: training loss = 1.2132425539388172\n",
      "Training Accuracy after Epoch 91 : 75.55%\n",
      "Epoch 92: training loss = 1.2079018394270715\n",
      "Training Accuracy after Epoch 92 : 75.7%\n",
      "Epoch 93: training loss = 1.2026380662078024\n",
      "Training Accuracy after Epoch 93 : 75.88%\n",
      "Epoch 94: training loss = 1.1974552368805098\n",
      "Training Accuracy after Epoch 94 : 76.04%\n",
      "Epoch 95: training loss = 1.1923630810286556\n",
      "Training Accuracy after Epoch 95 : 76.14%\n"
     ]
    },
    {
     "name": "stdout",
     "output_type": "stream",
     "text": [
      "Epoch 96: training loss = 1.1873630733149845\n",
      "Training Accuracy after Epoch 96 : 76.3%\n",
      "Epoch 97: training loss = 1.1824414023261494\n",
      "Training Accuracy after Epoch 97 : 76.45%\n",
      "Epoch 98: training loss = 1.1775791412312644\n",
      "Training Accuracy after Epoch 98 : 76.58%\n",
      "Epoch 99: training loss = 1.172768033130031\n",
      "Training Accuracy after Epoch 99 : 76.7%\n",
      "Epoch 100: training loss = 1.1680189430376624\n",
      "Training Accuracy after Epoch 100 : 76.82%\n"
     ]
    }
   ],
   "source": [
    "W2,b2,W1,b1=training()"
   ]
  },
  {
   "cell_type": "code",
   "execution_count": 26,
   "metadata": {},
   "outputs": [
    {
     "data": {
      "text/plain": [
       "(60000, 10)"
      ]
     },
     "execution_count": 26,
     "metadata": {},
     "output_type": "execute_result"
    }
   ],
   "source": [
    "y_train.shape"
   ]
  },
  {
   "cell_type": "code",
   "execution_count": 27,
   "metadata": {},
   "outputs": [],
   "source": [
    "def testing(W2,b2,W1,b1,X_test,y_test):\n",
    "    \n",
    "    dotprod1, h1, dotprod2, output=feedforward(X_test,W1,b1,W2,b2)   \n",
    "    labely_test=y_test\n",
    "    #np.argmax(y_test,axis=1)\n",
    "    labelpred=np.argmax(output,axis=1)\n",
    "    accuracytest = round((accuracy_score(labely_test, labelpred)*100),2)        \n",
    "    print(\"Training Accuracy : {}%\".format(accuracytest))\n",
    "        "
   ]
  },
  {
   "cell_type": "code",
   "execution_count": 28,
   "metadata": {},
   "outputs": [
    {
     "name": "stdout",
     "output_type": "stream",
     "text": [
      "Training Accuracy : 76.68%\n"
     ]
    }
   ],
   "source": [
    "result=testing(W2,b2,W1,b1,X_test,y_test)"
   ]
  },
  {
   "cell_type": "code",
   "execution_count": null,
   "metadata": {},
   "outputs": [],
   "source": []
  },
  {
   "cell_type": "code",
   "execution_count": null,
   "metadata": {},
   "outputs": [],
   "source": []
  },
  {
   "cell_type": "code",
   "execution_count": null,
   "metadata": {},
   "outputs": [],
   "source": []
  }
 ],
 "metadata": {
  "kernelspec": {
   "display_name": "Python 3",
   "language": "python",
   "name": "python3"
  },
  "language_info": {
   "codemirror_mode": {
    "name": "ipython",
    "version": 3
   },
   "file_extension": ".py",
   "mimetype": "text/x-python",
   "name": "python",
   "nbconvert_exporter": "python",
   "pygments_lexer": "ipython3",
   "version": "3.7.4"
  }
 },
 "nbformat": 4,
 "nbformat_minor": 2
}
