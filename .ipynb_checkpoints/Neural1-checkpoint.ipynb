{
 "cells": [
  {
   "cell_type": "code",
   "execution_count": null,
   "metadata": {},
   "outputs": [],
   "source": []
  },
  {
   "cell_type": "code",
   "execution_count": 1,
   "metadata": {},
   "outputs": [],
   "source": [
    "import pandas as pd\n",
    "import matplotlib.pyplot as plt\n",
    "import idx2numpy\n",
    "import numpy as np\n",
    "from sklearn.model_selection import train_test_split\n",
    "from sklearn import preprocessing"
   ]
  },
  {
   "cell_type": "markdown",
   "metadata": {},
   "source": [
    "### Converting the file into numpy array of dimensions (60000,28,28)"
   ]
  },
  {
   "cell_type": "code",
   "execution_count": 2,
   "metadata": {},
   "outputs": [],
   "source": [
    "def convertfunc(file):\n",
    "    arr = idx2numpy.convert_from_file(file)\n",
    "    return arr"
   ]
  },
  {
   "cell_type": "code",
   "execution_count": 3,
   "metadata": {},
   "outputs": [],
   "source": [
    "X_train=convertfunc('train-images.idx3-ubyte')\n",
    "y_train=convertfunc('train-labels.idx1-ubyte')\n",
    "X_test=convertfunc('t10k-images.idx3-ubyte')\n",
    "y_test=convertfunc('t10k-labels.idx1-ubyte')"
   ]
  },
  {
   "cell_type": "code",
   "execution_count": 4,
   "metadata": {},
   "outputs": [
    {
     "data": {
      "text/plain": [
       "(60000, 28, 28)"
      ]
     },
     "execution_count": 4,
     "metadata": {},
     "output_type": "execute_result"
    }
   ],
   "source": [
    "X_train.shape"
   ]
  },
  {
   "cell_type": "code",
   "execution_count": 5,
   "metadata": {},
   "outputs": [
    {
     "data": {
      "text/plain": [
       "((10000, 28, 28), (60000,))"
      ]
     },
     "execution_count": 5,
     "metadata": {},
     "output_type": "execute_result"
    }
   ],
   "source": [
    "X_test.shape, y_train.shape"
   ]
  },
  {
   "cell_type": "markdown",
   "metadata": {},
   "source": [
    "### Reshaping the dataset :"
   ]
  },
  {
   "cell_type": "code",
   "execution_count": 6,
   "metadata": {},
   "outputs": [],
   "source": [
    "def reshapefunc(array,rows,columns):\n",
    "    array=array.reshape(rows,columns)\n",
    "    return array"
   ]
  },
  {
   "cell_type": "code",
   "execution_count": 7,
   "metadata": {},
   "outputs": [],
   "source": [
    "X_train=reshapefunc(X_train,60000,784)\n",
    "X_test=reshapefunc(X_test,10000,784)\n",
    "#y_train=reshapefunc(y_train,1,60000)\n",
    "#y_test=reshapefunc(y_test,1,10000)\n"
   ]
  },
  {
   "cell_type": "code",
   "execution_count": 8,
   "metadata": {},
   "outputs": [
    {
     "data": {
      "text/plain": [
       "((60000, 784), (10000, 784), (60000,), (10000,))"
      ]
     },
     "execution_count": 8,
     "metadata": {},
     "output_type": "execute_result"
    }
   ],
   "source": [
    "X_train.shape,X_test.shape, y_train.shape,y_test.shape\n"
   ]
  },
  {
   "cell_type": "markdown",
   "metadata": {},
   "source": [
    "### Using One hot label encoding:"
   ]
  },
  {
   "cell_type": "code",
   "execution_count": 9,
   "metadata": {},
   "outputs": [],
   "source": [
    "y_train = pd.get_dummies(y_train)\n",
    "y_train=np.array(y_train)\n"
   ]
  },
  {
   "cell_type": "code",
   "execution_count": 10,
   "metadata": {},
   "outputs": [
    {
     "data": {
      "text/plain": [
       "array([[0, 0, 0, ..., 0, 0, 0],\n",
       "       [1, 0, 0, ..., 0, 0, 0],\n",
       "       [0, 0, 0, ..., 0, 0, 0],\n",
       "       ...,\n",
       "       [0, 0, 0, ..., 0, 0, 0],\n",
       "       [0, 0, 0, ..., 0, 0, 0],\n",
       "       [0, 0, 0, ..., 0, 1, 0]], dtype=uint8)"
      ]
     },
     "execution_count": 10,
     "metadata": {},
     "output_type": "execute_result"
    }
   ],
   "source": [
    "y_train"
   ]
  },
  {
   "cell_type": "code",
   "execution_count": 11,
   "metadata": {},
   "outputs": [
    {
     "data": {
      "text/plain": [
       "((60000, 784), (10000, 784))"
      ]
     },
     "execution_count": 11,
     "metadata": {},
     "output_type": "execute_result"
    }
   ],
   "source": [
    "X_train.shape, X_test.shape"
   ]
  },
  {
   "cell_type": "code",
   "execution_count": null,
   "metadata": {},
   "outputs": [],
   "source": []
  },
  {
   "cell_type": "code",
   "execution_count": 12,
   "metadata": {},
   "outputs": [],
   "source": [
    "def initialize_weights(inputs, hNeurons, oNeurons):\n",
    "\n",
    "    weights1=np.random.randn(inputs,hNeurons)*np.sqrt(1./inputs)    #784 rows 5 columns\n",
    "    bias1=np.zeros((1, hNeurons))\n",
    "    #hence x.w = 1,5 dimensions + bias [1,5]\n",
    "    weights2=np.random.randn(hNeurons,oNeurons)*np.sqrt(1./hNeurons)\n",
    "    #hence x.w= 5,10 dimensions + bias [1,10]\n",
    "    bias2= np.zeros((1, oNeurons))\n",
    "\n",
    "    #ouptut vecotr is going to be of dimensions [1,10] then softmax\n",
    "    #W1.shape , b1.shape, W2.shape, b2.shape\n",
    "    \n",
    "    return weights1, bias1, weights2, bias2\n"
   ]
  },
  {
   "cell_type": "code",
   "execution_count": null,
   "metadata": {},
   "outputs": [],
   "source": []
  },
  {
   "cell_type": "code",
   "execution_count": 13,
   "metadata": {},
   "outputs": [],
   "source": [
    "def sigmoid(z):\n",
    "    act = 1. / (1. + np.exp(-z))\n",
    "    return act"
   ]
  },
  {
   "cell_type": "code",
   "execution_count": 14,
   "metadata": {},
   "outputs": [],
   "source": [
    "def softmax(z):\n",
    "    softact = np.exp(z)/np.sum(np.exp(z), axis=0)                                       #- np.max(z, axis=1, keepdims=True)\n",
    "    return softact"
   ]
  },
  {
   "cell_type": "code",
   "execution_count": 15,
   "metadata": {},
   "outputs": [],
   "source": [
    "def feedforward(X_train,W1,b1,W2,b2):\n",
    "    z1= np.dot(X_train,W1)+b1\n",
    "    h1=sigmoid(z1)\n",
    "    \n",
    "    z2=np.dot(h1,W2)+b2\n",
    "    output=softmax(z2)\n",
    "    return z1, h1, z2, output\n",
    "        "
   ]
  },
  {
   "cell_type": "code",
   "execution_count": 16,
   "metadata": {},
   "outputs": [],
   "source": [
    "#dotprod1, h1, dotprod2, output=feedforward(X_train[:30000],W1,b1,W2,b2)"
   ]
  },
  {
   "cell_type": "code",
   "execution_count": 17,
   "metadata": {},
   "outputs": [],
   "source": [
    "def error(ypred,y_train):     \n",
    "    n_samples = y_train.shape[0]\n",
    "    L = (ypred-y_train)/n_samples\n",
    "    return L\n",
    "    "
   ]
  },
  {
   "cell_type": "code",
   "execution_count": 18,
   "metadata": {},
   "outputs": [],
   "source": [
    "def crossentropy(ypred, y_train):       #loss function\n",
    "    n_samples = y_train.shape[0]\n",
    "    logp = - np.log(ypred[np.arange(n_samples), y_train.argmax(axis=1)])\n",
    "    loss = np.sum(logp)/n_samples\n",
    "    return loss"
   ]
  },
  {
   "cell_type": "code",
   "execution_count": null,
   "metadata": {},
   "outputs": [],
   "source": []
  },
  {
   "cell_type": "code",
   "execution_count": 19,
   "metadata": {
    "scrolled": true
   },
   "outputs": [],
   "source": [
    "def sigmoid_derivative(h1):\n",
    "    deriv=h1*(1-h1)\n",
    "    return deriv"
   ]
  },
  {
   "cell_type": "code",
   "execution_count": null,
   "metadata": {},
   "outputs": [],
   "source": []
  },
  {
   "cell_type": "code",
   "execution_count": 20,
   "metadata": {},
   "outputs": [],
   "source": [
    "def backpropagation(h1,W2,ypred,y_train):\n",
    "    \n",
    "    #Calculate error\n",
    "    L=error(ypred,y_train)\n",
    "    \n",
    "    # z1, h1, z2, output\n",
    "    # z1, and z2 => dot products\n",
    "    # h1 and output => activations\n",
    "    change_output=L\n",
    "    #dL/dW2\n",
    "    delta_W2= np.dot(h1.T,change_output)\n",
    "    \n",
    "    #dL/db2\n",
    "    delta_b2= change_output\n",
    "    \n",
    "    #dL/dh1\n",
    "    delta_h1=np.dot(change_output,W2.T)\n",
    "    \n",
    "    change_h1= delta_h1*sigmoid_derivative(h1)\n",
    "    \n",
    "    #dL/dW1\n",
    "    delta_W1= np.dot(X_train[:30000].T, change_h1)\n",
    "    \n",
    "    #dL/db1\n",
    "    delta_b1= change_h1\n",
    "    \n",
    "    return delta_W2, delta_b2, delta_W1, delta_b1\n",
    "    "
   ]
  },
  {
   "cell_type": "code",
   "execution_count": 29,
   "metadata": {},
   "outputs": [],
   "source": [
    "#delta_W2, delta_b2, delta_W1, delta_b1= backpropagation(output,y_train[:30000])"
   ]
  },
  {
   "cell_type": "code",
   "execution_count": 22,
   "metadata": {},
   "outputs": [],
   "source": [
    "def update_weights(alpha,W1,b1,W2,b2,delta_W2,delta_b2,delta_W1,delta_b1):\n",
    "    W2= W2- alpha*(delta_W2)\n",
    "    b2= b2 - alpha*np.sum(delta_b2,axis=0)\n",
    "    W1= W1- alpha*(delta_W1)\n",
    "    b1=b1- alpha*np.sum(delta_b1,axis=0)\n",
    "    \n",
    "    return W2,b2,W1,b1"
   ]
  },
  {
   "cell_type": "code",
   "execution_count": 23,
   "metadata": {},
   "outputs": [],
   "source": [
    "#W2,b2,W1,b1=update_weights(0.001,W1,b1,W2,b2,delta_W2,delta_b2,delta_W1,delta_b1)"
   ]
  },
  {
   "cell_type": "code",
   "execution_count": 26,
   "metadata": {},
   "outputs": [],
   "source": [
    "def training():\n",
    "    hNeurons=256                               #hidden neuron\n",
    "    inputs=X_train.shape[1]                   #number of inputs\n",
    "    oNeurons=y_train.shape[1]\n",
    "    aplha= 0.005                         #learning rate\n",
    "    epochs=100\n",
    "    \n",
    "    \n",
    "    #initialize weights\n",
    "    W1, b1, W2, b2= initialize_weights(inputs,hNeurons,oNeurons)\n",
    "    \n",
    "    for i in range(epochs):\n",
    "        \n",
    "        #feed forward\n",
    "        dotprod1, h1, dotprod2, output=feedforward(X_train[:30000],W1,b1,W2,b2)\n",
    "\n",
    "        #back propogate\n",
    "        delta_W2, delta_b2, delta_W1, delta_b1= backpropagation(h1,W2,output,y_train[:30000])\n",
    "        #update weights using gradient descent\n",
    "        W2,b2,W1,b1=update_weights(aplha,W1,b1,W2,b2,delta_W2,delta_b2,delta_W1,delta_b1)\n",
    "\n",
    "        #again feed forward using updated weights\n",
    "        dotprod1, h1, dotprod2, output=feedforward(X_train[:30000],W1,b1,W2,b2)\n",
    "\n",
    "        #Calculating Total Loss\n",
    "        loss=crossentropy(output,y_train[:30000])                 # put in training func later\n",
    "        print(\"loss on total training set is : \", loss)\n",
    "        \n",
    "    "
   ]
  },
  {
   "cell_type": "code",
   "execution_count": 27,
   "metadata": {
    "scrolled": true
   },
   "outputs": [
    {
     "name": "stdout",
     "output_type": "stream",
     "text": [
      "loss on total training set is :  10.399785179806669\n",
      "loss on total training set is :  10.383321715784808\n",
      "loss on total training set is :  10.367368603459113\n",
      "loss on total training set is :  10.351550141535483\n",
      "loss on total training set is :  10.335927534019183\n",
      "loss on total training set is :  10.320232656556591\n",
      "loss on total training set is :  10.304459764269248\n",
      "loss on total training set is :  10.289061760670727\n",
      "loss on total training set is :  10.273815627218415\n",
      "loss on total training set is :  10.258779442366224\n",
      "loss on total training set is :  10.244173571976779\n",
      "loss on total training set is :  10.229996428394957\n",
      "loss on total training set is :  10.21579497651984\n",
      "loss on total training set is :  10.201682955717299\n",
      "loss on total training set is :  10.187693005867027\n",
      "loss on total training set is :  10.174183576238548\n",
      "loss on total training set is :  10.161052152106553\n",
      "loss on total training set is :  10.148242155242723\n",
      "loss on total training set is :  10.135771050463875\n",
      "loss on total training set is :  10.12350605746603\n",
      "loss on total training set is :  10.111500902572235\n",
      "loss on total training set is :  10.099720918085824\n",
      "loss on total training set is :  10.088317348591074\n",
      "loss on total training set is :  10.077077801699796\n",
      "loss on total training set is :  10.065943334761021\n",
      "loss on total training set is :  10.054927578037569\n",
      "loss on total training set is :  10.043949332629378\n",
      "loss on total training set is :  10.033170889824301\n",
      "loss on total training set is :  10.022698912978514\n",
      "loss on total training set is :  10.012431496308364\n",
      "loss on total training set is :  10.00229574438288\n",
      "loss on total training set is :  9.992533900185402\n",
      "loss on total training set is :  9.983071504767404\n",
      "loss on total training set is :  9.973858759593726\n",
      "loss on total training set is :  9.96483026696869\n",
      "loss on total training set is :  9.95591255201241\n",
      "loss on total training set is :  9.94729842963444\n",
      "loss on total training set is :  9.938881762267266\n",
      "loss on total training set is :  9.930540175102712\n",
      "loss on total training set is :  9.922387949471918\n",
      "loss on total training set is :  9.914346154356911\n",
      "loss on total training set is :  9.906437352756534\n",
      "loss on total training set is :  9.898698404015745\n",
      "loss on total training set is :  9.891255101623189\n",
      "loss on total training set is :  9.883880763367294\n",
      "loss on total training set is :  9.876601514606964\n",
      "loss on total training set is :  9.869415301593529\n",
      "loss on total training set is :  9.862437450330688\n",
      "loss on total training set is :  9.855610198029897\n",
      "loss on total training set is :  9.848934215859328\n",
      "loss on total training set is :  9.842327152907382\n",
      "loss on total training set is :  9.835799808416626\n",
      "loss on total training set is :  9.829397480986142\n",
      "loss on total training set is :  9.82311301817445\n",
      "loss on total training set is :  9.817086161383159\n",
      "loss on total training set is :  9.811242261590232\n",
      "loss on total training set is :  9.805583262795393\n",
      "loss on total training set is :  9.800008764992626\n",
      "loss on total training set is :  9.794466890538212\n",
      "loss on total training set is :  9.789030881990048\n",
      "loss on total training set is :  9.783682868032724\n",
      "loss on total training set is :  9.778398280727437\n",
      "loss on total training set is :  9.773267842931196\n",
      "loss on total training set is :  9.768351522736515\n",
      "loss on total training set is :  9.763522727099934\n",
      "loss on total training set is :  9.758776780425583\n",
      "loss on total training set is :  9.754051370909458\n",
      "loss on total training set is :  9.749361098136424\n",
      "loss on total training set is :  9.744774113466834\n",
      "loss on total training set is :  9.740303412794784\n",
      "loss on total training set is :  9.735963051924436\n",
      "loss on total training set is :  9.731698361207503\n",
      "loss on total training set is :  9.727464193487233\n",
      "loss on total training set is :  9.723322353624226\n",
      "loss on total training set is :  9.71927191351145\n",
      "loss on total training set is :  9.715305857198791\n",
      "loss on total training set is :  9.711393151079829\n",
      "loss on total training set is :  9.707524854709673\n",
      "loss on total training set is :  9.703741435274885\n",
      "loss on total training set is :  9.69997380186771\n",
      "loss on total training set is :  9.696281496722545\n",
      "loss on total training set is :  9.692572927191422\n",
      "loss on total training set is :  9.68888493734904\n",
      "loss on total training set is :  9.685274580447512\n",
      "loss on total training set is :  9.681843142975676\n",
      "loss on total training set is :  9.678449895498803\n",
      "loss on total training set is :  9.674901697627611\n",
      "loss on total training set is :  9.671413331459629\n",
      "loss on total training set is :  9.668062625620836\n",
      "loss on total training set is :  9.664771787424302\n",
      "loss on total training set is :  9.661451776676067\n",
      "loss on total training set is :  9.658069602785169\n",
      "loss on total training set is :  9.654862747303532\n",
      "loss on total training set is :  9.651628145879632\n",
      "loss on total training set is :  9.648484383299602\n",
      "loss on total training set is :  9.64547002787104\n",
      "loss on total training set is :  9.642490688190854\n",
      "loss on total training set is :  9.639558129806824\n",
      "loss on total training set is :  9.636674941552828\n",
      "loss on total training set is :  9.633823960484593\n"
     ]
    }
   ],
   "source": [
    "training()"
   ]
  },
  {
   "cell_type": "code",
   "execution_count": null,
   "metadata": {},
   "outputs": [],
   "source": []
  }
 ],
 "metadata": {
  "kernelspec": {
   "display_name": "Python 3",
   "language": "python",
   "name": "python3"
  },
  "language_info": {
   "codemirror_mode": {
    "name": "ipython",
    "version": 3
   },
   "file_extension": ".py",
   "mimetype": "text/x-python",
   "name": "python",
   "nbconvert_exporter": "python",
   "pygments_lexer": "ipython3",
   "version": "3.7.4"
  }
 },
 "nbformat": 4,
 "nbformat_minor": 2
}
