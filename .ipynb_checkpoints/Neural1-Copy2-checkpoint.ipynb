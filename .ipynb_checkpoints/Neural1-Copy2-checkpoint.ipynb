{
 "cells": [
  {
   "cell_type": "markdown",
   "metadata": {},
   "source": [
    "## VAISHNAVI JAMDADE(TM39453)\n",
    "### HOMEWORK 4"
   ]
  },
  {
   "cell_type": "markdown",
   "metadata": {},
   "source": [
    "### Importing required libraries:"
   ]
  },
  {
   "cell_type": "code",
   "execution_count": 1,
   "metadata": {},
   "outputs": [],
   "source": [
    "import pandas as pd\n",
    "import matplotlib.pyplot as plt\n",
    "import idx2numpy\n",
    "import numpy as np\n",
    "from sklearn.model_selection import train_test_split\n",
    "from sklearn import preprocessing\n",
    "from sklearn.metrics import accuracy_score"
   ]
  },
  {
   "cell_type": "markdown",
   "metadata": {},
   "source": [
    "### Converting the file into numpy array of dimensions (60000,28,28)"
   ]
  },
  {
   "cell_type": "code",
   "execution_count": 2,
   "metadata": {},
   "outputs": [],
   "source": [
    "def convertfunc(file):\n",
    "    arr = idx2numpy.convert_from_file(file)\n",
    "    return arr"
   ]
  },
  {
   "cell_type": "code",
   "execution_count": 3,
   "metadata": {},
   "outputs": [],
   "source": [
    "X_train=convertfunc('train-images.idx3-ubyte')\n",
    "y_train=convertfunc('train-labels.idx1-ubyte')\n",
    "X_test=convertfunc('t10k-images.idx3-ubyte')\n",
    "y_test=convertfunc('t10k-labels.idx1-ubyte')"
   ]
  },
  {
   "cell_type": "code",
   "execution_count": 4,
   "metadata": {},
   "outputs": [
    {
     "data": {
      "text/plain": [
       "(60000, 28, 28)"
      ]
     },
     "execution_count": 4,
     "metadata": {},
     "output_type": "execute_result"
    }
   ],
   "source": [
    "X_train.shape"
   ]
  },
  {
   "cell_type": "code",
   "execution_count": 5,
   "metadata": {},
   "outputs": [
    {
     "data": {
      "text/plain": [
       "((10000, 28, 28), (60000,))"
      ]
     },
     "execution_count": 5,
     "metadata": {},
     "output_type": "execute_result"
    }
   ],
   "source": [
    "X_test.shape, y_train.shape"
   ]
  },
  {
   "cell_type": "markdown",
   "metadata": {},
   "source": [
    "### Reshaping the dataset :"
   ]
  },
  {
   "cell_type": "code",
   "execution_count": 6,
   "metadata": {},
   "outputs": [],
   "source": [
    "def reshapefunc(array,rows,columns):\n",
    "    array=array.reshape(rows,columns)\n",
    "    return array"
   ]
  },
  {
   "cell_type": "code",
   "execution_count": 7,
   "metadata": {},
   "outputs": [],
   "source": [
    "X_train=reshapefunc(X_train,60000,784)\n",
    "X_test=reshapefunc(X_test,10000,784)\n",
    "#y_train=reshapefunc(y_train,1,60000)\n",
    "#y_test=reshapefunc(y_test,1,10000)"
   ]
  },
  {
   "cell_type": "code",
   "execution_count": 8,
   "metadata": {},
   "outputs": [
    {
     "data": {
      "text/plain": [
       "((60000, 784), (10000, 784), (60000,), (10000,))"
      ]
     },
     "execution_count": 8,
     "metadata": {},
     "output_type": "execute_result"
    }
   ],
   "source": [
    "X_train.shape,X_test.shape, y_train.shape,y_test.shape"
   ]
  },
  {
   "cell_type": "markdown",
   "metadata": {},
   "source": [
    "### Splitting Training data into Training and Validation dataset"
   ]
  },
  {
   "cell_type": "markdown",
   "metadata": {},
   "source": [
    "* For Question 3, Here we have split the original X_train(training dataset) into X_trainval and X_testval where we will train our model with 4 configurations on our X_trainval data, and then evaluate it on our Validation dataset that is, X_testval"
   ]
  },
  {
   "cell_type": "code",
   "execution_count": 9,
   "metadata": {},
   "outputs": [],
   "source": [
    "X_trainval,X_testval,y_trainval,y_testval=train_test_split(X_train,y_train,test_size=0.3, random_state=42)"
   ]
  },
  {
   "cell_type": "code",
   "execution_count": 10,
   "metadata": {},
   "outputs": [
    {
     "data": {
      "text/plain": [
       "((42000, 784), (18000, 784), (42000,), (18000,))"
      ]
     },
     "execution_count": 10,
     "metadata": {},
     "output_type": "execute_result"
    }
   ],
   "source": [
    "X_trainval.shape, X_testval.shape, y_trainval.shape,y_testval.shape"
   ]
  },
  {
   "cell_type": "markdown",
   "metadata": {},
   "source": [
    "### Using One hot label encoding for output labels:"
   ]
  },
  {
   "cell_type": "code",
   "execution_count": 11,
   "metadata": {},
   "outputs": [
    {
     "data": {
      "text/plain": [
       "(60000,)"
      ]
     },
     "execution_count": 11,
     "metadata": {},
     "output_type": "execute_result"
    }
   ],
   "source": [
    "y_train.shape"
   ]
  },
  {
   "cell_type": "code",
   "execution_count": 12,
   "metadata": {},
   "outputs": [],
   "source": [
    "y_train = pd.get_dummies(y_train)\n",
    "y_train=np.array(y_train)"
   ]
  },
  {
   "cell_type": "code",
   "execution_count": 13,
   "metadata": {},
   "outputs": [
    {
     "data": {
      "text/plain": [
       "(60000, 10)"
      ]
     },
     "execution_count": 13,
     "metadata": {},
     "output_type": "execute_result"
    }
   ],
   "source": [
    "y_train.shape"
   ]
  },
  {
   "cell_type": "markdown",
   "metadata": {},
   "source": [
    "### Using one hot label encoding for validation output labels:"
   ]
  },
  {
   "cell_type": "code",
   "execution_count": 14,
   "metadata": {},
   "outputs": [],
   "source": [
    "y_trainval = pd.get_dummies(y_trainval)\n",
    "y_trainval=np.array(y_trainval)"
   ]
  },
  {
   "cell_type": "code",
   "execution_count": 15,
   "metadata": {},
   "outputs": [
    {
     "data": {
      "text/plain": [
       "(42000, 10)"
      ]
     },
     "execution_count": 15,
     "metadata": {},
     "output_type": "execute_result"
    }
   ],
   "source": [
    "y_trainval.shape"
   ]
  },
  {
   "cell_type": "code",
   "execution_count": 16,
   "metadata": {},
   "outputs": [
    {
     "data": {
      "text/plain": [
       "(60000, 10)"
      ]
     },
     "execution_count": 16,
     "metadata": {},
     "output_type": "execute_result"
    }
   ],
   "source": [
    "y_train.shape"
   ]
  },
  {
   "cell_type": "markdown",
   "metadata": {},
   "source": [
    "### Initializing weights and bias:"
   ]
  },
  {
   "cell_type": "code",
   "execution_count": 17,
   "metadata": {},
   "outputs": [],
   "source": [
    "def initialize_weights(inputs, hNeurons, oNeurons):\n",
    "\n",
    "    weights1=np.random.randn(inputs,hNeurons)*np.sqrt(1./inputs)    #784 rows 5 columns\n",
    "    bias1=np.zeros((1, hNeurons))*np.sqrt(1./inputs)\n",
    "    #hence x.w = 1,5 dimensions + bias [1,5]\n",
    "    weights2=np.random.randn(hNeurons,oNeurons)*np.sqrt(1./hNeurons)\n",
    "    #hence x.w= 5,10 dimensions + bias [1,10]\n",
    "    bias2= np.zeros((1, oNeurons))*np.sqrt(1./hNeurons)\n",
    "\n",
    "    #ouptut vecotr is going to be of dimensions [1,10] then softmax\n",
    "    #W1.shape , b1.shape, W2.shape, b2.shape\n",
    "    \n",
    "    return weights1, bias1, weights2, bias2\n"
   ]
  },
  {
   "cell_type": "markdown",
   "metadata": {},
   "source": [
    "### Sigmoid Activation Function:"
   ]
  },
  {
   "cell_type": "code",
   "execution_count": 18,
   "metadata": {},
   "outputs": [],
   "source": [
    "def sigmoid(z):\n",
    "    act = 1. / (1. + np.exp(-z))\n",
    "    return act"
   ]
  },
  {
   "cell_type": "markdown",
   "metadata": {},
   "source": [
    "### Tanh Activation Function :"
   ]
  },
  {
   "cell_type": "code",
   "execution_count": 19,
   "metadata": {},
   "outputs": [],
   "source": [
    "def tanh(z):\n",
    "    tanhact=(np.exp(z)-np.exp(-z))/(np.exp(z)+np.exp(-z))\n",
    "    return tanhact"
   ]
  },
  {
   "cell_type": "markdown",
   "metadata": {},
   "source": [
    "### Softmax Activation function :"
   ]
  },
  {
   "cell_type": "code",
   "execution_count": 20,
   "metadata": {},
   "outputs": [],
   "source": [
    "#Normalising the values:\n",
    "\n",
    "def softmax(z):\n",
    "    softact = np.exp(z)/np.sum(np.exp(z), axis=1,keepdims=True)                                       \n",
    "    return softact\n"
   ]
  },
  {
   "cell_type": "markdown",
   "metadata": {},
   "source": [
    "### Feed Forward Function :"
   ]
  },
  {
   "cell_type": "code",
   "execution_count": 21,
   "metadata": {},
   "outputs": [],
   "source": [
    "def feedforward(X_t,W1,b1,W2,b2,actfunc):\n",
    "    z1= np.dot(X_t,W1)+b1\n",
    "    h1=actfunc(z1)\n",
    "    \n",
    "    z2=np.dot(h1,W2)+b2\n",
    "    output=softmax(z2)\n",
    "    return z1, h1, z2, output\n",
    "        "
   ]
  },
  {
   "cell_type": "markdown",
   "metadata": {},
   "source": [
    "### Error Function :"
   ]
  },
  {
   "cell_type": "code",
   "execution_count": 22,
   "metadata": {},
   "outputs": [],
   "source": [
    "def error(ypred,y_t):     \n",
    "    n_samples = y_t.shape[0]\n",
    "    L = (ypred-y_t)/n_samples\n",
    "    return L    "
   ]
  },
  {
   "cell_type": "markdown",
   "metadata": {},
   "source": [
    "### Cross Entropy Loss Function:"
   ]
  },
  {
   "cell_type": "code",
   "execution_count": 23,
   "metadata": {},
   "outputs": [],
   "source": [
    "def crossentropy(ypred,y_t):\n",
    "    L_sum = np.sum(np.multiply(y_t, np.log(ypred)))\n",
    "    num_samples = y_t.shape[0]\n",
    "    L = -(1./num_samples) * L_sum\n",
    "\n",
    "    return L"
   ]
  },
  {
   "cell_type": "markdown",
   "metadata": {},
   "source": [
    "### Function to calculate Sigmoid Derivative:"
   ]
  },
  {
   "cell_type": "code",
   "execution_count": 24,
   "metadata": {
    "scrolled": true
   },
   "outputs": [],
   "source": [
    "def sigmoid_derivative(h1):\n",
    "    deriv_s=h1*(1-h1)\n",
    "    return deriv_s"
   ]
  },
  {
   "cell_type": "markdown",
   "metadata": {},
   "source": [
    "### Function to calculate Tanh derivative :"
   ]
  },
  {
   "cell_type": "code",
   "execution_count": 25,
   "metadata": {},
   "outputs": [],
   "source": [
    "def tanh_derivative(h1):\n",
    "    deriv_t=1-h1**2\n",
    "    return deriv_t"
   ]
  },
  {
   "cell_type": "markdown",
   "metadata": {},
   "source": [
    "### Backpropagation Function to compute Gradient Information:"
   ]
  },
  {
   "cell_type": "code",
   "execution_count": 26,
   "metadata": {},
   "outputs": [],
   "source": [
    "def backpropagation(h1,W2,ypred,y_t,X_t,derivfunc):\n",
    "    \n",
    "    #Calculate error\n",
    "    L=error(ypred,y_t)\n",
    "    \n",
    "    # z1, h1, z2, output\n",
    "    # z1, and z2 => dot products\n",
    "    # h1 and output => activations\n",
    "    change_output=L\n",
    "    #dL/dW2\n",
    "    delta_W2= np.dot(h1.T,change_output)\n",
    "    \n",
    "    #dL/db2\n",
    "    delta_b2= np.sum(change_output,axis=0,keepdims=True)\n",
    "    \n",
    "    #dL/dh1\n",
    "    delta_h1=np.dot(change_output,W2.T)\n",
    "\n",
    "    change_h1= delta_h1*derivfunc(h1)\n",
    "    \n",
    "    #dL/dW1\n",
    "    delta_W1= np.dot(X_t.T, change_h1)\n",
    "    \n",
    "    #dL/db1\n",
    "    delta_b1= np.sum(change_h1,axis=0,keepdims=True)\n",
    "    \n",
    "    return delta_W2, delta_b2, delta_W1, delta_b1\n",
    "    "
   ]
  },
  {
   "cell_type": "markdown",
   "metadata": {},
   "source": [
    "### Function to update weights:"
   ]
  },
  {
   "cell_type": "code",
   "execution_count": 27,
   "metadata": {},
   "outputs": [],
   "source": [
    "def update_weights(alpha,W1,b1,W2,b2,delta_W2,delta_b2,delta_W1,delta_b1):\n",
    "    W2= W2- alpha*(delta_W2)\n",
    "    b2= b2 - alpha*(delta_b2)\n",
    "    W1= W1- alpha*(delta_W1)\n",
    "    b1=b1- alpha*(delta_b1)\n",
    "    \n",
    "    return W2,b2,W1,b1"
   ]
  },
  {
   "cell_type": "markdown",
   "metadata": {},
   "source": [
    "### Training Function:"
   ]
  },
  {
   "cell_type": "code",
   "execution_count": 28,
   "metadata": {},
   "outputs": [],
   "source": [
    "def training(X_t,y_t,neurons,lr,iterations,actfunc,derivfunc):\n",
    "    hNeurons=neurons                              #hidden neuron\n",
    "    inputs=X_t.shape[1]                   #number of inputs\n",
    "    oNeurons=y_t.shape[1]\n",
    "    alpha= lr                       #learning rate\n",
    "    epochs=iterations\n",
    "    \n",
    "    #retriving the actual labels for y_train:\n",
    "    labely_train=np.argmax(y_t,axis=1)\n",
    "    \n",
    "    #initialize weights\n",
    "    W1, b1, W2, b2= initialize_weights(inputs,hNeurons,oNeurons)\n",
    "    li=[]\n",
    "    listloss=[]\n",
    "    for i in range(epochs):\n",
    "        \n",
    "        #feed forward\n",
    "        dotprod1, h1, dotprod2, output=feedforward(X_t,W1,b1,W2,b2,actfunc)\n",
    "\n",
    "        #back propogate\n",
    "        delta_W2, delta_b2, delta_W1, delta_b1= backpropagation(h1,W2,output,y_t,X_t,derivfunc)\n",
    "        \n",
    "        #update weights using gradient descent\n",
    "        W2,b2,W1,b1=update_weights(alpha,W1,b1,W2,b2,delta_W2,delta_b2,delta_W1,delta_b1)\n",
    "\n",
    "        #again feed forward using updated weights\n",
    "        dotprod1, h1, dotprod2, output=feedforward(X_t,W1,b1,W2,b2,actfunc)\n",
    "\n",
    "        #Calculating Total Loss\n",
    "        loss=crossentropy(output,y_t)                 # put in training func later\n",
    "        print(\"Epoch {}: training loss = {}\".format(i + 1,loss))\n",
    "        listloss.append(loss)\n",
    "\n",
    "        #Retrieving the corresponding class labels:\n",
    "        labelpred=np.argmax(output,axis=1)\n",
    "        \n",
    "        #Training Accuracy:\n",
    "        accuracy = round((accuracy_score(labely_train, labelpred)*100),2)\n",
    "        print(\"Training Accuracy after Epoch {} : {}%\".format(i+1, accuracy))\n",
    "        li.append(accuracy)\n",
    "        \n",
    "    return W2,b2,W1,b1,li,listloss\n",
    "        \n"
   ]
  },
  {
   "cell_type": "markdown",
   "metadata": {},
   "source": [
    "### Testing Function:"
   ]
  },
  {
   "cell_type": "code",
   "execution_count": 29,
   "metadata": {},
   "outputs": [],
   "source": [
    "def testing(W2,b2,W1,b1,X_t,y_t,actfunc):\n",
    "    \n",
    "    dotprod1, h1, dotprod2, output=feedforward(X_t,W1,b1,W2,b2,actfunc)   \n",
    "    labely_test=y_t\n",
    "    labelpred=np.argmax(output,axis=1)\n",
    "    #accuracytest = round((accuracy_score(labely_test, labelpred)*100),2)        \n",
    "    #print(\"Accuracy on Testing data : {}%\".format(accuracytest))\n",
    "    return labely_test,labelpred\n",
    "        "
   ]
  },
  {
   "cell_type": "markdown",
   "metadata": {},
   "source": [
    "### Function to measure accuracy:"
   ]
  },
  {
   "cell_type": "code",
   "execution_count": 30,
   "metadata": {},
   "outputs": [],
   "source": [
    "def accuracy(labely_test, labelpred):\n",
    "    accuracytest = round((accuracy_score(labely_test, labelpred)*100),2)        \n",
    "    #print(\"Accuracy : {}%\".format(accuracytest))\n",
    "    return accuracytest"
   ]
  },
  {
   "cell_type": "markdown",
   "metadata": {},
   "source": [
    "## Configuration 1 :\n",
    "* Number of neurons = 64\n",
    "* Learning rate = 0.01\n",
    "* Iteratations =300\n",
    "* Activation Function : Sigmoid"
   ]
  },
  {
   "cell_type": "code",
   "execution_count": 31,
   "metadata": {},
   "outputs": [
    {
     "name": "stdout",
     "output_type": "stream",
     "text": [
      "Epoch 1: training loss = 2.4378994118199926\n",
      "Training Accuracy after Epoch 1 : 11.69%\n",
      "Epoch 2: training loss = 2.39796223947657\n",
      "Training Accuracy after Epoch 2 : 13.02%\n",
      "Epoch 3: training loss = 2.3608709309923737\n",
      "Training Accuracy after Epoch 3 : 14.41%\n",
      "Epoch 4: training loss = 2.3263803612582663\n",
      "Training Accuracy after Epoch 4 : 16.0%\n",
      "Epoch 5: training loss = 2.293933504367141\n",
      "Training Accuracy after Epoch 5 : 17.49%\n",
      "Epoch 6: training loss = 2.264095363280734\n",
      "Training Accuracy after Epoch 6 : 18.98%\n",
      "Epoch 7: training loss = 2.2359090863638778\n",
      "Training Accuracy after Epoch 7 : 20.56%\n",
      "Epoch 8: training loss = 2.2100257945067794\n",
      "Training Accuracy after Epoch 8 : 22.26%\n",
      "Epoch 9: training loss = 2.1856118785076277\n",
      "Training Accuracy after Epoch 9 : 23.66%\n",
      "Epoch 10: training loss = 2.1621966076521635\n",
      "Training Accuracy after Epoch 10 : 25.12%\n",
      "Epoch 11: training loss = 2.139804919051724\n",
      "Training Accuracy after Epoch 11 : 26.49%\n",
      "Epoch 12: training loss = 2.118926718621406\n",
      "Training Accuracy after Epoch 12 : 27.77%\n",
      "Epoch 13: training loss = 2.099458955803111\n",
      "Training Accuracy after Epoch 13 : 28.98%\n",
      "Epoch 14: training loss = 2.081247892220135\n",
      "Training Accuracy after Epoch 14 : 30.05%\n",
      "Epoch 15: training loss = 2.0637149688833265\n",
      "Training Accuracy after Epoch 15 : 31.07%\n",
      "Epoch 16: training loss = 2.0468614063105095\n",
      "Training Accuracy after Epoch 16 : 32.15%\n",
      "Epoch 17: training loss = 2.0309218818416386\n",
      "Training Accuracy after Epoch 17 : 33.23%\n",
      "Epoch 18: training loss = 2.0155972150381025\n",
      "Training Accuracy after Epoch 18 : 34.26%\n",
      "Epoch 19: training loss = 2.0002920358621874\n",
      "Training Accuracy after Epoch 19 : 35.16%\n",
      "Epoch 20: training loss = 1.9854455203045744\n",
      "Training Accuracy after Epoch 20 : 36.14%\n",
      "Epoch 21: training loss = 1.971028377273605\n",
      "Training Accuracy after Epoch 21 : 37.26%\n",
      "Epoch 22: training loss = 1.9570326830011342\n",
      "Training Accuracy after Epoch 22 : 38.38%\n",
      "Epoch 23: training loss = 1.943467573727989\n",
      "Training Accuracy after Epoch 23 : 39.4%\n",
      "Epoch 24: training loss = 1.9303206205653995\n",
      "Training Accuracy after Epoch 24 : 40.35%\n",
      "Epoch 25: training loss = 1.9173742915063705\n",
      "Training Accuracy after Epoch 25 : 41.45%\n",
      "Epoch 26: training loss = 1.9043317229941668\n",
      "Training Accuracy after Epoch 26 : 42.34%\n",
      "Epoch 27: training loss = 1.8912738918666985\n",
      "Training Accuracy after Epoch 27 : 43.35%\n",
      "Epoch 28: training loss = 1.8790394390517982\n",
      "Training Accuracy after Epoch 28 : 44.28%\n",
      "Epoch 29: training loss = 1.8673293700045754\n",
      "Training Accuracy after Epoch 29 : 45.16%\n",
      "Epoch 30: training loss = 1.8558252761787593\n",
      "Training Accuracy after Epoch 30 : 46.07%\n",
      "Epoch 31: training loss = 1.8446634458690734\n",
      "Training Accuracy after Epoch 31 : 46.99%\n",
      "Epoch 32: training loss = 1.8339169929151395\n",
      "Training Accuracy after Epoch 32 : 47.81%\n",
      "Epoch 33: training loss = 1.8233411919783113\n",
      "Training Accuracy after Epoch 33 : 48.5%\n",
      "Epoch 34: training loss = 1.8127760118794436\n",
      "Training Accuracy after Epoch 34 : 49.29%\n",
      "Epoch 35: training loss = 1.8024691639580817\n",
      "Training Accuracy after Epoch 35 : 50.05%\n",
      "Epoch 36: training loss = 1.7925013518307713\n",
      "Training Accuracy after Epoch 36 : 50.75%\n",
      "Epoch 37: training loss = 1.7828219853632885\n",
      "Training Accuracy after Epoch 37 : 51.48%\n",
      "Epoch 38: training loss = 1.7733186529930671\n",
      "Training Accuracy after Epoch 38 : 52.23%\n",
      "Epoch 39: training loss = 1.7638513251519108\n",
      "Training Accuracy after Epoch 39 : 52.88%\n",
      "Epoch 40: training loss = 1.7544814974613456\n",
      "Training Accuracy after Epoch 40 : 53.54%\n",
      "Epoch 41: training loss = 1.7453243521841904\n",
      "Training Accuracy after Epoch 41 : 54.25%\n",
      "Epoch 42: training loss = 1.7363060585430565\n",
      "Training Accuracy after Epoch 42 : 54.9%\n",
      "Epoch 43: training loss = 1.7275766655190756\n",
      "Training Accuracy after Epoch 43 : 55.49%\n",
      "Epoch 44: training loss = 1.7191005751728297\n",
      "Training Accuracy after Epoch 44 : 56.05%\n",
      "Epoch 45: training loss = 1.710715337843015\n",
      "Training Accuracy after Epoch 45 : 56.65%\n",
      "Epoch 46: training loss = 1.7023825171909366\n",
      "Training Accuracy after Epoch 46 : 57.2%\n",
      "Epoch 47: training loss = 1.6942604832203156\n",
      "Training Accuracy after Epoch 47 : 57.66%\n",
      "Epoch 48: training loss = 1.6862356823331652\n",
      "Training Accuracy after Epoch 48 : 58.2%\n",
      "Epoch 49: training loss = 1.6783242319436602\n",
      "Training Accuracy after Epoch 49 : 58.77%\n",
      "Epoch 50: training loss = 1.6707110008003871\n",
      "Training Accuracy after Epoch 50 : 59.27%\n",
      "Epoch 51: training loss = 1.663285664922046\n",
      "Training Accuracy after Epoch 51 : 59.77%\n",
      "Epoch 52: training loss = 1.655897699378601\n",
      "Training Accuracy after Epoch 52 : 60.14%\n",
      "Epoch 53: training loss = 1.6485358467701958\n",
      "Training Accuracy after Epoch 53 : 60.53%\n",
      "Epoch 54: training loss = 1.6411662778841853\n",
      "Training Accuracy after Epoch 54 : 60.9%\n",
      "Epoch 55: training loss = 1.6337936234200514\n",
      "Training Accuracy after Epoch 55 : 61.31%\n",
      "Epoch 56: training loss = 1.6264212509987006\n",
      "Training Accuracy after Epoch 56 : 61.69%\n",
      "Epoch 57: training loss = 1.6190886874690804\n",
      "Training Accuracy after Epoch 57 : 62.07%\n",
      "Epoch 58: training loss = 1.611859248229327\n",
      "Training Accuracy after Epoch 58 : 62.5%\n",
      "Epoch 59: training loss = 1.6047334003975835\n",
      "Training Accuracy after Epoch 59 : 62.83%\n",
      "Epoch 60: training loss = 1.5977460457317756\n",
      "Training Accuracy after Epoch 60 : 63.15%\n",
      "Epoch 61: training loss = 1.5908849138474974\n",
      "Training Accuracy after Epoch 61 : 63.56%\n",
      "Epoch 62: training loss = 1.5841168141154984\n",
      "Training Accuracy after Epoch 62 : 63.85%\n",
      "Epoch 63: training loss = 1.5774485613694889\n",
      "Training Accuracy after Epoch 63 : 64.16%\n",
      "Epoch 64: training loss = 1.5708223865075623\n",
      "Training Accuracy after Epoch 64 : 64.43%\n",
      "Epoch 65: training loss = 1.5642504384223157\n",
      "Training Accuracy after Epoch 65 : 64.57%\n",
      "Epoch 66: training loss = 1.5578577106076381\n",
      "Training Accuracy after Epoch 66 : 64.79%\n",
      "Epoch 67: training loss = 1.55160153995815\n",
      "Training Accuracy after Epoch 67 : 65.1%\n",
      "Epoch 68: training loss = 1.5454705119515837\n",
      "Training Accuracy after Epoch 68 : 65.41%\n",
      "Epoch 69: training loss = 1.5394983693158328\n",
      "Training Accuracy after Epoch 69 : 65.68%\n",
      "Epoch 70: training loss = 1.5336372099026065\n",
      "Training Accuracy after Epoch 70 : 65.98%\n",
      "Epoch 71: training loss = 1.527844449869216\n",
      "Training Accuracy after Epoch 71 : 66.24%\n",
      "Epoch 72: training loss = 1.5221131799302356\n",
      "Training Accuracy after Epoch 72 : 66.52%\n",
      "Epoch 73: training loss = 1.5164317563768466\n",
      "Training Accuracy after Epoch 73 : 66.81%\n",
      "Epoch 74: training loss = 1.5108502656039164\n",
      "Training Accuracy after Epoch 74 : 67.01%\n",
      "Epoch 75: training loss = 1.5053527244692644\n",
      "Training Accuracy after Epoch 75 : 67.25%\n",
      "Epoch 76: training loss = 1.4998734519930967\n",
      "Training Accuracy after Epoch 76 : 67.44%\n",
      "Epoch 77: training loss = 1.4943890502598418\n",
      "Training Accuracy after Epoch 77 : 67.65%\n",
      "Epoch 78: training loss = 1.4889395086493558\n",
      "Training Accuracy after Epoch 78 : 67.9%\n",
      "Epoch 79: training loss = 1.4835335608340066\n",
      "Training Accuracy after Epoch 79 : 68.12%\n",
      "Epoch 80: training loss = 1.4782034029840603\n",
      "Training Accuracy after Epoch 80 : 68.35%\n",
      "Epoch 81: training loss = 1.4729409777283011\n",
      "Training Accuracy after Epoch 81 : 68.53%\n",
      "Epoch 82: training loss = 1.4677435423405967\n",
      "Training Accuracy after Epoch 82 : 68.77%\n",
      "Epoch 83: training loss = 1.462616478685291\n",
      "Training Accuracy after Epoch 83 : 68.98%\n",
      "Epoch 84: training loss = 1.457537707326957\n",
      "Training Accuracy after Epoch 84 : 69.19%\n",
      "Epoch 85: training loss = 1.4525137321738086\n",
      "Training Accuracy after Epoch 85 : 69.36%\n",
      "Epoch 86: training loss = 1.4475510818429425\n",
      "Training Accuracy after Epoch 86 : 69.53%\n",
      "Epoch 87: training loss = 1.4426070895530991\n",
      "Training Accuracy after Epoch 87 : 69.7%\n",
      "Epoch 88: training loss = 1.437663016961586\n",
      "Training Accuracy after Epoch 88 : 69.9%\n",
      "Epoch 89: training loss = 1.4327384403138295\n",
      "Training Accuracy after Epoch 89 : 70.05%\n",
      "Epoch 90: training loss = 1.427836769950959\n",
      "Training Accuracy after Epoch 90 : 70.25%\n",
      "Epoch 91: training loss = 1.4229859147702713\n",
      "Training Accuracy after Epoch 91 : 70.41%\n",
      "Epoch 92: training loss = 1.4181864240688198\n",
      "Training Accuracy after Epoch 92 : 70.6%\n",
      "Epoch 93: training loss = 1.413450357833555\n",
      "Training Accuracy after Epoch 93 : 70.79%\n",
      "Epoch 94: training loss = 1.4088113855902464\n",
      "Training Accuracy after Epoch 94 : 70.94%\n",
      "Epoch 95: training loss = 1.40424945351152\n",
      "Training Accuracy after Epoch 95 : 71.15%\n"
     ]
    },
    {
     "name": "stdout",
     "output_type": "stream",
     "text": [
      "Epoch 96: training loss = 1.399743821991576\n",
      "Training Accuracy after Epoch 96 : 71.27%\n",
      "Epoch 97: training loss = 1.3952748228409115\n",
      "Training Accuracy after Epoch 97 : 71.41%\n",
      "Epoch 98: training loss = 1.3908068806693468\n",
      "Training Accuracy after Epoch 98 : 71.57%\n",
      "Epoch 99: training loss = 1.3863149916275113\n",
      "Training Accuracy after Epoch 99 : 71.71%\n",
      "Epoch 100: training loss = 1.3817720116538235\n",
      "Training Accuracy after Epoch 100 : 71.9%\n",
      "Epoch 101: training loss = 1.3772232172798455\n",
      "Training Accuracy after Epoch 101 : 72.0%\n",
      "Epoch 102: training loss = 1.3727813638199882\n",
      "Training Accuracy after Epoch 102 : 72.12%\n",
      "Epoch 103: training loss = 1.3684440705364838\n",
      "Training Accuracy after Epoch 103 : 72.26%\n",
      "Epoch 104: training loss = 1.3641731384675737\n",
      "Training Accuracy after Epoch 104 : 72.41%\n",
      "Epoch 105: training loss = 1.3599384373062522\n",
      "Training Accuracy after Epoch 105 : 72.54%\n",
      "Epoch 106: training loss = 1.355717306229669\n",
      "Training Accuracy after Epoch 106 : 72.68%\n",
      "Epoch 107: training loss = 1.3515143717607052\n",
      "Training Accuracy after Epoch 107 : 72.79%\n",
      "Epoch 108: training loss = 1.34734972648667\n",
      "Training Accuracy after Epoch 108 : 72.96%\n",
      "Epoch 109: training loss = 1.343212901287605\n",
      "Training Accuracy after Epoch 109 : 73.15%\n",
      "Epoch 110: training loss = 1.3390941212266\n",
      "Training Accuracy after Epoch 110 : 73.29%\n",
      "Epoch 111: training loss = 1.3350046826386281\n",
      "Training Accuracy after Epoch 111 : 73.42%\n",
      "Epoch 112: training loss = 1.330939463890289\n",
      "Training Accuracy after Epoch 112 : 73.51%\n",
      "Epoch 113: training loss = 1.32688445054236\n",
      "Training Accuracy after Epoch 113 : 73.66%\n",
      "Epoch 114: training loss = 1.322845127833339\n",
      "Training Accuracy after Epoch 114 : 73.78%\n",
      "Epoch 115: training loss = 1.318844414375007\n",
      "Training Accuracy after Epoch 115 : 73.9%\n",
      "Epoch 116: training loss = 1.314878463957501\n",
      "Training Accuracy after Epoch 116 : 74.07%\n",
      "Epoch 117: training loss = 1.3109226033389303\n",
      "Training Accuracy after Epoch 117 : 74.17%\n",
      "Epoch 118: training loss = 1.3069790162892116\n",
      "Training Accuracy after Epoch 118 : 74.33%\n",
      "Epoch 119: training loss = 1.3030578837447222\n",
      "Training Accuracy after Epoch 119 : 74.45%\n",
      "Epoch 120: training loss = 1.299153301748132\n",
      "Training Accuracy after Epoch 120 : 74.55%\n",
      "Epoch 121: training loss = 1.2952607664498763\n",
      "Training Accuracy after Epoch 121 : 74.67%\n",
      "Epoch 122: training loss = 1.2913668315875517\n",
      "Training Accuracy after Epoch 122 : 74.75%\n",
      "Epoch 123: training loss = 1.2875288516729684\n",
      "Training Accuracy after Epoch 123 : 74.88%\n",
      "Epoch 124: training loss = 1.283723309611249\n",
      "Training Accuracy after Epoch 124 : 74.97%\n",
      "Epoch 125: training loss = 1.2799223568688767\n",
      "Training Accuracy after Epoch 125 : 75.09%\n",
      "Epoch 126: training loss = 1.2761377219053345\n",
      "Training Accuracy after Epoch 126 : 75.18%\n",
      "Epoch 127: training loss = 1.272378006482973\n",
      "Training Accuracy after Epoch 127 : 75.29%\n",
      "Epoch 128: training loss = 1.2686571536645357\n",
      "Training Accuracy after Epoch 128 : 75.38%\n",
      "Epoch 129: training loss = 1.2649511995749008\n",
      "Training Accuracy after Epoch 129 : 75.47%\n",
      "Epoch 130: training loss = 1.2612539468774988\n",
      "Training Accuracy after Epoch 130 : 75.58%\n",
      "Epoch 131: training loss = 1.2575837143356192\n",
      "Training Accuracy after Epoch 131 : 75.72%\n",
      "Epoch 132: training loss = 1.2539572576473865\n",
      "Training Accuracy after Epoch 132 : 75.84%\n",
      "Epoch 133: training loss = 1.2503562784088675\n",
      "Training Accuracy after Epoch 133 : 75.96%\n",
      "Epoch 134: training loss = 1.2467903176916375\n",
      "Training Accuracy after Epoch 134 : 76.05%\n",
      "Epoch 135: training loss = 1.2432660277932766\n",
      "Training Accuracy after Epoch 135 : 76.17%\n",
      "Epoch 136: training loss = 1.2397676010095888\n",
      "Training Accuracy after Epoch 136 : 76.26%\n",
      "Epoch 137: training loss = 1.2362711620016387\n",
      "Training Accuracy after Epoch 137 : 76.38%\n",
      "Epoch 138: training loss = 1.232755312486136\n",
      "Training Accuracy after Epoch 138 : 76.49%\n",
      "Epoch 139: training loss = 1.229244084755971\n",
      "Training Accuracy after Epoch 139 : 76.6%\n",
      "Epoch 140: training loss = 1.2257667707226667\n",
      "Training Accuracy after Epoch 140 : 76.68%\n",
      "Epoch 141: training loss = 1.222362083533703\n",
      "Training Accuracy after Epoch 141 : 76.81%\n",
      "Epoch 142: training loss = 1.219015772372857\n",
      "Training Accuracy after Epoch 142 : 76.89%\n",
      "Epoch 143: training loss = 1.2156836389894772\n",
      "Training Accuracy after Epoch 143 : 76.98%\n",
      "Epoch 144: training loss = 1.2123647710502745\n",
      "Training Accuracy after Epoch 144 : 77.07%\n",
      "Epoch 145: training loss = 1.2090980397352782\n",
      "Training Accuracy after Epoch 145 : 77.13%\n",
      "Epoch 146: training loss = 1.2058932301442251\n",
      "Training Accuracy after Epoch 146 : 77.22%\n",
      "Epoch 147: training loss = 1.2027099066098677\n",
      "Training Accuracy after Epoch 147 : 77.3%\n",
      "Epoch 148: training loss = 1.1995245949107887\n",
      "Training Accuracy after Epoch 148 : 77.38%\n",
      "Epoch 149: training loss = 1.1963326479878411\n",
      "Training Accuracy after Epoch 149 : 77.44%\n",
      "Epoch 150: training loss = 1.1931204113644205\n",
      "Training Accuracy after Epoch 150 : 77.53%\n",
      "Epoch 151: training loss = 1.1898923794776635\n",
      "Training Accuracy after Epoch 151 : 77.63%\n",
      "Epoch 152: training loss = 1.1866976044130455\n",
      "Training Accuracy after Epoch 152 : 77.71%\n",
      "Epoch 153: training loss = 1.183535075287218\n",
      "Training Accuracy after Epoch 153 : 77.77%\n",
      "Epoch 154: training loss = 1.1803843660273428\n",
      "Training Accuracy after Epoch 154 : 77.84%\n",
      "Epoch 155: training loss = 1.1772552539313486\n",
      "Training Accuracy after Epoch 155 : 77.9%\n",
      "Epoch 156: training loss = 1.1741597372007528\n",
      "Training Accuracy after Epoch 156 : 77.96%\n",
      "Epoch 157: training loss = 1.1710715474998348\n",
      "Training Accuracy after Epoch 157 : 78.03%\n",
      "Epoch 158: training loss = 1.1679989421705594\n",
      "Training Accuracy after Epoch 158 : 78.11%\n",
      "Epoch 159: training loss = 1.1649528297160332\n",
      "Training Accuracy after Epoch 159 : 78.16%\n",
      "Epoch 160: training loss = 1.1618934339387674\n",
      "Training Accuracy after Epoch 160 : 78.24%\n",
      "Epoch 161: training loss = 1.1587953771944992\n",
      "Training Accuracy after Epoch 161 : 78.27%\n",
      "Epoch 162: training loss = 1.1557456757263957\n",
      "Training Accuracy after Epoch 162 : 78.37%\n",
      "Epoch 163: training loss = 1.152768645794562\n",
      "Training Accuracy after Epoch 163 : 78.46%\n",
      "Epoch 164: training loss = 1.1498260221382384\n",
      "Training Accuracy after Epoch 164 : 78.53%\n",
      "Epoch 165: training loss = 1.1469240583444331\n",
      "Training Accuracy after Epoch 165 : 78.63%\n",
      "Epoch 166: training loss = 1.1440322959851088\n",
      "Training Accuracy after Epoch 166 : 78.7%\n",
      "Epoch 167: training loss = 1.1411332567722297\n",
      "Training Accuracy after Epoch 167 : 78.76%\n",
      "Epoch 168: training loss = 1.1382584865280845\n",
      "Training Accuracy after Epoch 168 : 78.83%\n",
      "Epoch 169: training loss = 1.1354482294993244\n",
      "Training Accuracy after Epoch 169 : 78.91%\n",
      "Epoch 170: training loss = 1.1326929680660627\n",
      "Training Accuracy after Epoch 170 : 78.97%\n",
      "Epoch 171: training loss = 1.1299594428122695\n",
      "Training Accuracy after Epoch 171 : 79.02%\n",
      "Epoch 172: training loss = 1.1272342840774405\n",
      "Training Accuracy after Epoch 172 : 79.12%\n",
      "Epoch 173: training loss = 1.1245078442018035\n",
      "Training Accuracy after Epoch 173 : 79.18%\n",
      "Epoch 174: training loss = 1.1217707755473856\n",
      "Training Accuracy after Epoch 174 : 79.2%\n",
      "Epoch 175: training loss = 1.1190250399007844\n",
      "Training Accuracy after Epoch 175 : 79.25%\n",
      "Epoch 176: training loss = 1.116308333113082\n",
      "Training Accuracy after Epoch 176 : 79.32%\n",
      "Epoch 177: training loss = 1.1136268261917102\n",
      "Training Accuracy after Epoch 177 : 79.39%\n",
      "Epoch 178: training loss = 1.1109607848488239\n",
      "Training Accuracy after Epoch 178 : 79.44%\n",
      "Epoch 179: training loss = 1.1083124662250903\n",
      "Training Accuracy after Epoch 179 : 79.51%\n",
      "Epoch 180: training loss = 1.1056753858671784\n",
      "Training Accuracy after Epoch 180 : 79.56%\n",
      "Epoch 181: training loss = 1.1030431286447777\n",
      "Training Accuracy after Epoch 181 : 79.6%\n",
      "Epoch 182: training loss = 1.1004202862828072\n",
      "Training Accuracy after Epoch 182 : 79.68%\n",
      "Epoch 183: training loss = 1.097829867073574\n",
      "Training Accuracy after Epoch 183 : 79.72%\n",
      "Epoch 184: training loss = 1.0952835420662332\n",
      "Training Accuracy after Epoch 184 : 79.8%\n",
      "Epoch 185: training loss = 1.092765130371243\n",
      "Training Accuracy after Epoch 185 : 79.83%\n",
      "Epoch 186: training loss = 1.0902719325427606\n",
      "Training Accuracy after Epoch 186 : 79.88%\n",
      "Epoch 187: training loss = 1.0877804639492925\n",
      "Training Accuracy after Epoch 187 : 79.95%\n",
      "Epoch 188: training loss = 1.085268770960291\n",
      "Training Accuracy after Epoch 188 : 79.97%\n"
     ]
    },
    {
     "name": "stdout",
     "output_type": "stream",
     "text": [
      "Epoch 189: training loss = 1.0827531309820302\n",
      "Training Accuracy after Epoch 189 : 80.04%\n",
      "Epoch 190: training loss = 1.0802516002031763\n",
      "Training Accuracy after Epoch 190 : 80.07%\n",
      "Epoch 191: training loss = 1.077777209317196\n",
      "Training Accuracy after Epoch 191 : 80.09%\n",
      "Epoch 192: training loss = 1.075324019818414\n",
      "Training Accuracy after Epoch 192 : 80.15%\n",
      "Epoch 193: training loss = 1.072878639709743\n",
      "Training Accuracy after Epoch 193 : 80.21%\n",
      "Epoch 194: training loss = 1.070439822907809\n",
      "Training Accuracy after Epoch 194 : 80.25%\n",
      "Epoch 195: training loss = 1.0680252000759538\n",
      "Training Accuracy after Epoch 195 : 80.31%\n",
      "Epoch 196: training loss = 1.0656451053853324\n",
      "Training Accuracy after Epoch 196 : 80.38%\n",
      "Epoch 197: training loss = 1.0632925200438952\n",
      "Training Accuracy after Epoch 197 : 80.46%\n",
      "Epoch 198: training loss = 1.0609610618184382\n",
      "Training Accuracy after Epoch 198 : 80.53%\n",
      "Epoch 199: training loss = 1.0586443243490982\n",
      "Training Accuracy after Epoch 199 : 80.57%\n",
      "Epoch 200: training loss = 1.0563354740459143\n",
      "Training Accuracy after Epoch 200 : 80.65%\n",
      "Epoch 201: training loss = 1.0540385204911864\n",
      "Training Accuracy after Epoch 201 : 80.69%\n",
      "Epoch 202: training loss = 1.051762290852859\n",
      "Training Accuracy after Epoch 202 : 80.76%\n",
      "Epoch 203: training loss = 1.0495031892688957\n",
      "Training Accuracy after Epoch 203 : 80.8%\n",
      "Epoch 204: training loss = 1.0472521951907139\n",
      "Training Accuracy after Epoch 204 : 80.84%\n",
      "Epoch 205: training loss = 1.0450040963616398\n",
      "Training Accuracy after Epoch 205 : 80.88%\n",
      "Epoch 206: training loss = 1.0427618547128503\n",
      "Training Accuracy after Epoch 206 : 80.92%\n",
      "Epoch 207: training loss = 1.0405294143985726\n",
      "Training Accuracy after Epoch 207 : 80.96%\n",
      "Epoch 208: training loss = 1.0383091881618196\n",
      "Training Accuracy after Epoch 208 : 81.04%\n",
      "Epoch 209: training loss = 1.0361018317217636\n",
      "Training Accuracy after Epoch 209 : 81.09%\n",
      "Epoch 210: training loss = 1.0339110525828903\n",
      "Training Accuracy after Epoch 210 : 81.13%\n",
      "Epoch 211: training loss = 1.0317400639888212\n",
      "Training Accuracy after Epoch 211 : 81.15%\n",
      "Epoch 212: training loss = 1.029588138334855\n",
      "Training Accuracy after Epoch 212 : 81.23%\n",
      "Epoch 213: training loss = 1.0274541695331545\n",
      "Training Accuracy after Epoch 213 : 81.3%\n",
      "Epoch 214: training loss = 1.0253378177467956\n",
      "Training Accuracy after Epoch 214 : 81.36%\n",
      "Epoch 215: training loss = 1.0232390942637246\n",
      "Training Accuracy after Epoch 215 : 81.4%\n",
      "Epoch 216: training loss = 1.021158641761989\n",
      "Training Accuracy after Epoch 216 : 81.44%\n",
      "Epoch 217: training loss = 1.0190961232166316\n",
      "Training Accuracy after Epoch 217 : 81.5%\n",
      "Epoch 218: training loss = 1.0170483709262506\n",
      "Training Accuracy after Epoch 218 : 81.53%\n",
      "Epoch 219: training loss = 1.0150119112397904\n",
      "Training Accuracy after Epoch 219 : 81.56%\n",
      "Epoch 220: training loss = 1.012985119370808\n",
      "Training Accuracy after Epoch 220 : 81.61%\n",
      "Epoch 221: training loss = 1.0109662977010156\n",
      "Training Accuracy after Epoch 221 : 81.65%\n",
      "Epoch 222: training loss = 1.0089542794981055\n",
      "Training Accuracy after Epoch 222 : 81.69%\n",
      "Epoch 223: training loss = 1.006955418891366\n",
      "Training Accuracy after Epoch 223 : 81.73%\n",
      "Epoch 224: training loss = 1.004975187319023\n",
      "Training Accuracy after Epoch 224 : 81.77%\n",
      "Epoch 225: training loss = 1.0030096006635851\n",
      "Training Accuracy after Epoch 225 : 81.85%\n",
      "Epoch 226: training loss = 1.0010532518350983\n",
      "Training Accuracy after Epoch 226 : 81.89%\n",
      "Epoch 227: training loss = 0.9991022800808553\n",
      "Training Accuracy after Epoch 227 : 81.94%\n",
      "Epoch 228: training loss = 0.9971533883297752\n",
      "Training Accuracy after Epoch 228 : 81.96%\n",
      "Epoch 229: training loss = 0.9952063399871073\n",
      "Training Accuracy after Epoch 229 : 82.01%\n",
      "Epoch 230: training loss = 0.9932618204769512\n",
      "Training Accuracy after Epoch 230 : 82.04%\n",
      "Epoch 231: training loss = 0.9913222108689785\n",
      "Training Accuracy after Epoch 231 : 82.08%\n",
      "Epoch 232: training loss = 0.9893975045639233\n",
      "Training Accuracy after Epoch 232 : 82.11%\n",
      "Epoch 233: training loss = 0.9874845379855308\n",
      "Training Accuracy after Epoch 233 : 82.14%\n",
      "Epoch 234: training loss = 0.9855801474452218\n",
      "Training Accuracy after Epoch 234 : 82.15%\n",
      "Epoch 235: training loss = 0.9836823833771139\n",
      "Training Accuracy after Epoch 235 : 82.2%\n",
      "Epoch 236: training loss = 0.9817891201866028\n",
      "Training Accuracy after Epoch 236 : 82.27%\n",
      "Epoch 237: training loss = 0.9799013588875304\n",
      "Training Accuracy after Epoch 237 : 82.3%\n",
      "Epoch 238: training loss = 0.9780208865547164\n",
      "Training Accuracy after Epoch 238 : 82.33%\n",
      "Epoch 239: training loss = 0.9761484959473892\n",
      "Training Accuracy after Epoch 239 : 82.38%\n",
      "Epoch 240: training loss = 0.9742915122408887\n",
      "Training Accuracy after Epoch 240 : 82.41%\n",
      "Epoch 241: training loss = 0.9724561604591685\n",
      "Training Accuracy after Epoch 241 : 82.47%\n",
      "Epoch 242: training loss = 0.9706389508023955\n",
      "Training Accuracy after Epoch 242 : 82.52%\n",
      "Epoch 243: training loss = 0.9688360180278998\n",
      "Training Accuracy after Epoch 243 : 82.56%\n",
      "Epoch 244: training loss = 0.9670443688665565\n",
      "Training Accuracy after Epoch 244 : 82.59%\n",
      "Epoch 245: training loss = 0.9652619105807596\n",
      "Training Accuracy after Epoch 245 : 82.66%\n",
      "Epoch 246: training loss = 0.9634868690854755\n",
      "Training Accuracy after Epoch 246 : 82.68%\n",
      "Epoch 247: training loss = 0.9617175001288022\n",
      "Training Accuracy after Epoch 247 : 82.72%\n",
      "Epoch 248: training loss = 0.9599540487011106\n",
      "Training Accuracy after Epoch 248 : 82.76%\n",
      "Epoch 249: training loss = 0.9581959366357857\n",
      "Training Accuracy after Epoch 249 : 82.77%\n",
      "Epoch 250: training loss = 0.9564410217066647\n",
      "Training Accuracy after Epoch 250 : 82.79%\n",
      "Epoch 251: training loss = 0.9546835888050607\n",
      "Training Accuracy after Epoch 251 : 82.83%\n",
      "Epoch 252: training loss = 0.9529152922384732\n",
      "Training Accuracy after Epoch 252 : 82.85%\n",
      "Epoch 253: training loss = 0.951145509638905\n",
      "Training Accuracy after Epoch 253 : 82.88%\n",
      "Epoch 254: training loss = 0.94939987111353\n",
      "Training Accuracy after Epoch 254 : 82.92%\n",
      "Epoch 255: training loss = 0.9476750597947884\n",
      "Training Accuracy after Epoch 255 : 82.95%\n",
      "Epoch 256: training loss = 0.9459531737402748\n",
      "Training Accuracy after Epoch 256 : 82.99%\n",
      "Epoch 257: training loss = 0.9442350387220689\n",
      "Training Accuracy after Epoch 257 : 83.01%\n",
      "Epoch 258: training loss = 0.9425316332373791\n",
      "Training Accuracy after Epoch 258 : 83.02%\n",
      "Epoch 259: training loss = 0.9408432474530868\n",
      "Training Accuracy after Epoch 259 : 83.05%\n",
      "Epoch 260: training loss = 0.9391625476140519\n",
      "Training Accuracy after Epoch 260 : 83.06%\n",
      "Epoch 261: training loss = 0.9374837022115441\n",
      "Training Accuracy after Epoch 261 : 83.08%\n",
      "Epoch 262: training loss = 0.9358109557452086\n",
      "Training Accuracy after Epoch 262 : 83.13%\n",
      "Epoch 263: training loss = 0.9341476297167164\n",
      "Training Accuracy after Epoch 263 : 83.18%\n",
      "Epoch 264: training loss = 0.932492087461774\n",
      "Training Accuracy after Epoch 264 : 83.19%\n",
      "Epoch 265: training loss = 0.9308429193195263\n",
      "Training Accuracy after Epoch 265 : 83.23%\n",
      "Epoch 266: training loss = 0.9291998903249071\n",
      "Training Accuracy after Epoch 266 : 83.26%\n",
      "Epoch 267: training loss = 0.9275642599214998\n",
      "Training Accuracy after Epoch 267 : 83.3%\n",
      "Epoch 268: training loss = 0.9259356194185698\n",
      "Training Accuracy after Epoch 268 : 83.34%\n",
      "Epoch 269: training loss = 0.9243103405489734\n",
      "Training Accuracy after Epoch 269 : 83.35%\n",
      "Epoch 270: training loss = 0.922685289219518\n",
      "Training Accuracy after Epoch 270 : 83.39%\n",
      "Epoch 271: training loss = 0.9210626108738776\n",
      "Training Accuracy after Epoch 271 : 83.42%\n",
      "Epoch 272: training loss = 0.9194471663945691\n",
      "Training Accuracy after Epoch 272 : 83.46%\n",
      "Epoch 273: training loss = 0.917836700050006\n",
      "Training Accuracy after Epoch 273 : 83.47%\n",
      "Epoch 274: training loss = 0.9162226023372253\n",
      "Training Accuracy after Epoch 274 : 83.5%\n",
      "Epoch 275: training loss = 0.9146049267389657\n",
      "Training Accuracy after Epoch 275 : 83.53%\n",
      "Epoch 276: training loss = 0.9129876208276981\n",
      "Training Accuracy after Epoch 276 : 83.55%\n",
      "Epoch 277: training loss = 0.9113858446528248\n",
      "Training Accuracy after Epoch 277 : 83.59%\n",
      "Epoch 278: training loss = 0.9098080034460029\n",
      "Training Accuracy after Epoch 278 : 83.63%\n",
      "Epoch 279: training loss = 0.9082515029027863\n",
      "Training Accuracy after Epoch 279 : 83.65%\n",
      "Epoch 280: training loss = 0.9067062503100074\n",
      "Training Accuracy after Epoch 280 : 83.68%\n",
      "Epoch 281: training loss = 0.9051591281850252\n",
      "Training Accuracy after Epoch 281 : 83.71%\n"
     ]
    },
    {
     "name": "stdout",
     "output_type": "stream",
     "text": [
      "Epoch 282: training loss = 0.9036024882780794\n",
      "Training Accuracy after Epoch 282 : 83.75%\n",
      "Epoch 283: training loss = 0.9020528144576964\n",
      "Training Accuracy after Epoch 283 : 83.77%\n",
      "Epoch 284: training loss = 0.9005161187548951\n",
      "Training Accuracy after Epoch 284 : 83.79%\n",
      "Epoch 285: training loss = 0.8989769162778344\n",
      "Training Accuracy after Epoch 285 : 83.81%\n",
      "Epoch 286: training loss = 0.8974375685152366\n",
      "Training Accuracy after Epoch 286 : 83.84%\n",
      "Epoch 287: training loss = 0.89591404514937\n",
      "Training Accuracy after Epoch 287 : 83.87%\n",
      "Epoch 288: training loss = 0.8944115205031341\n",
      "Training Accuracy after Epoch 288 : 83.89%\n",
      "Epoch 289: training loss = 0.8929194157161293\n",
      "Training Accuracy after Epoch 289 : 83.93%\n",
      "Epoch 290: training loss = 0.8914303195031447\n",
      "Training Accuracy after Epoch 290 : 83.98%\n",
      "Epoch 291: training loss = 0.8899416942338635\n",
      "Training Accuracy after Epoch 291 : 84.0%\n",
      "Epoch 292: training loss = 0.8884600339964606\n",
      "Training Accuracy after Epoch 292 : 84.01%\n",
      "Epoch 293: training loss = 0.8869930645161516\n",
      "Training Accuracy after Epoch 293 : 84.05%\n",
      "Epoch 294: training loss = 0.8855393262026063\n",
      "Training Accuracy after Epoch 294 : 84.08%\n",
      "Epoch 295: training loss = 0.884096102636568\n",
      "Training Accuracy after Epoch 295 : 84.11%\n",
      "Epoch 296: training loss = 0.8826619734757917\n",
      "Training Accuracy after Epoch 296 : 84.13%\n",
      "Epoch 297: training loss = 0.8812357305279903\n",
      "Training Accuracy after Epoch 297 : 84.14%\n",
      "Epoch 298: training loss = 0.879815782931391\n",
      "Training Accuracy after Epoch 298 : 84.16%\n",
      "Epoch 299: training loss = 0.8784001417305362\n",
      "Training Accuracy after Epoch 299 : 84.18%\n",
      "Epoch 300: training loss = 0.876987143424982\n",
      "Training Accuracy after Epoch 300 : 84.2%\n"
     ]
    }
   ],
   "source": [
    "W2,b2,W1,b1,li1,loss1=training(X_trainval,y_trainval,64,0.01,300,sigmoid,sigmoid_derivative)"
   ]
  },
  {
   "cell_type": "code",
   "execution_count": null,
   "metadata": {},
   "outputs": [],
   "source": []
  },
  {
   "cell_type": "markdown",
   "metadata": {},
   "source": [
    "## Test Loss using Configuration 1:"
   ]
  },
  {
   "cell_type": "code",
   "execution_count": 32,
   "metadata": {},
   "outputs": [
    {
     "data": {
      "text/plain": [
       "[<matplotlib.lines.Line2D at 0x1fe8049f348>]"
      ]
     },
     "execution_count": 32,
     "metadata": {},
     "output_type": "execute_result"
    },
    {
     "data": {
      "image/png": "[encoded data removed]",
      "text/plain": [
       "<Figure size 1080x504 with 1 Axes>"
      ]
     },
     "metadata": {
      "needs_background": "light"
     },
     "output_type": "display_data"
    }
   ],
   "source": [
    "epochs = list(range(1,300+1))\n",
    "loss= loss1\n",
    "plt.figure(figsize=(15,7))\n",
    "plt.title('Test Loss using configuration 1', fontsize=15)\n",
    "plt.xlabel('Epochs', size=14)\n",
    "plt.ylabel('Loss', fontsize=14)\n",
    "plt.tick_params(labelsize=12);\n",
    "#plt.scatter(epochs,loss,alpha=1,c='green')\n",
    "plt.plot(epochs,loss,c='red')\n"
   ]
  },
  {
   "cell_type": "markdown",
   "metadata": {},
   "source": [
    "### Plotting training accuracies :"
   ]
  },
  {
   "cell_type": "code",
   "execution_count": 33,
   "metadata": {},
   "outputs": [
    {
     "data": {
      "text/plain": [
       "[<matplotlib.lines.Line2D at 0x1fe80732e08>]"
      ]
     },
     "execution_count": 33,
     "metadata": {},
     "output_type": "execute_result"
    },
    {
     "data": {
      "image/png": "[encoded data removed]",
      "text/plain": [
       "<Figure size 1080x504 with 1 Axes>"
      ]
     },
     "metadata": {
      "needs_background": "light"
     },
     "output_type": "display_data"
    }
   ],
   "source": [
    "epochs = list(range(1,300+1))\n",
    "accuracies= li1\n",
    "plt.figure(figsize=(15,7))\n",
    "plt.title('Trends in Training Accuracies using configuration 1', fontsize=15)\n",
    "plt.xlabel('Epochs', size=14)\n",
    "plt.ylabel('Accuracies', fontsize=14)\n",
    "plt.tick_params(labelsize=12);\n",
    "plt.scatter(epochs,accuracies,alpha=1,c='green')\n",
    "plt.plot(epochs,accuracies)\n"
   ]
  },
  {
   "cell_type": "markdown",
   "metadata": {},
   "source": [
    "### Evaluating on Validation data using configuration 1:"
   ]
  },
  {
   "cell_type": "code",
   "execution_count": 34,
   "metadata": {},
   "outputs": [
    {
     "name": "stdout",
     "output_type": "stream",
     "text": [
      "Accuracy on Validation data using configuration 1: 83.43%\n"
     ]
    }
   ],
   "source": [
    "labely_test,labelpred=testing(W2,b2,W1,b1,X_testval,y_testval,sigmoid)\n",
    "accuracy_val=accuracy(labely_test, labelpred)\n",
    "print(\"Accuracy on Validation data using configuration 1: {}%\".format(accuracy_val))\n",
    "acc1=accuracy_val"
   ]
  },
  {
   "cell_type": "markdown",
   "metadata": {},
   "source": [
    "## Configuration 2 :\n",
    "* Number of neurons = 64\n",
    "* Learning rate = 0.05\n",
    "* Iteratations =300\n",
    "* Activation Function : Sigmoid"
   ]
  },
  {
   "cell_type": "code",
   "execution_count": null,
   "metadata": {},
   "outputs": [
    {
     "name": "stdout",
     "output_type": "stream",
     "text": [
      "Epoch 1: training loss = 2.2669175230933987\n",
      "Training Accuracy after Epoch 1 : 13.08%\n",
      "Epoch 2: training loss = 2.1308644087006114\n",
      "Training Accuracy after Epoch 2 : 23.09%\n",
      "Epoch 3: training loss = 2.0226069858501172\n",
      "Training Accuracy after Epoch 3 : 34.11%\n",
      "Epoch 4: training loss = 1.9340098933622039\n",
      "Training Accuracy after Epoch 4 : 42.02%\n",
      "Epoch 5: training loss = 1.8588591915049013\n",
      "Training Accuracy after Epoch 5 : 47.48%\n",
      "Epoch 6: training loss = 1.793099183835952\n",
      "Training Accuracy after Epoch 6 : 51.83%\n",
      "Epoch 7: training loss = 1.7347867526086567\n",
      "Training Accuracy after Epoch 7 : 55.45%\n",
      "Epoch 8: training loss = 1.681205083399042\n",
      "Training Accuracy after Epoch 8 : 58.58%\n",
      "Epoch 9: training loss = 1.6343648029775286\n",
      "Training Accuracy after Epoch 9 : 60.99%\n",
      "Epoch 10: training loss = 1.5936809986062082\n",
      "Training Accuracy after Epoch 10 : 63.01%\n",
      "Epoch 11: training loss = 1.5552144976453752\n",
      "Training Accuracy after Epoch 11 : 64.73%\n",
      "Epoch 12: training loss = 1.5188919889692516\n",
      "Training Accuracy after Epoch 12 : 66.74%\n",
      "Epoch 13: training loss = 1.4841926503176348\n",
      "Training Accuracy after Epoch 13 : 68.25%\n",
      "Epoch 14: training loss = 1.45017639596746\n",
      "Training Accuracy after Epoch 14 : 69.8%\n",
      "Epoch 15: training loss = 1.4185573568557113\n",
      "Training Accuracy after Epoch 15 : 70.9%\n",
      "Epoch 16: training loss = 1.3895202368486568\n",
      "Training Accuracy after Epoch 16 : 71.97%\n",
      "Epoch 17: training loss = 1.3628887079796326\n",
      "Training Accuracy after Epoch 17 : 72.48%\n",
      "Epoch 18: training loss = 1.33687213455454\n",
      "Training Accuracy after Epoch 18 : 73.48%\n",
      "Epoch 19: training loss = 1.3119744363394974\n",
      "Training Accuracy after Epoch 19 : 74.03%\n",
      "Epoch 20: training loss = 1.2879893117568537\n",
      "Training Accuracy after Epoch 20 : 74.86%\n",
      "Epoch 21: training loss = 1.265329230296261\n",
      "Training Accuracy after Epoch 21 : 75.46%\n",
      "Epoch 22: training loss = 1.2440739251734623\n",
      "Training Accuracy after Epoch 22 : 76.08%\n",
      "Epoch 23: training loss = 1.2242317873134319\n",
      "Training Accuracy after Epoch 23 : 76.31%\n",
      "Epoch 24: training loss = 1.2044597521182945\n",
      "Training Accuracy after Epoch 24 : 76.88%\n",
      "Epoch 25: training loss = 1.1853299908094201\n",
      "Training Accuracy after Epoch 25 : 77.22%\n",
      "Epoch 26: training loss = 1.1680905324467168\n",
      "Training Accuracy after Epoch 26 : 77.86%\n",
      "Epoch 27: training loss = 1.1516754697865945\n",
      "Training Accuracy after Epoch 27 : 78.13%\n",
      "Epoch 28: training loss = 1.1358705309827328\n",
      "Training Accuracy after Epoch 28 : 78.7%\n",
      "Epoch 29: training loss = 1.1211089245454615\n",
      "Training Accuracy after Epoch 29 : 78.77%\n",
      "Epoch 30: training loss = 1.1066510328030768\n",
      "Training Accuracy after Epoch 30 : 79.16%\n",
      "Epoch 31: training loss = 1.0927765778760956\n",
      "Training Accuracy after Epoch 31 : 79.32%\n",
      "Epoch 32: training loss = 1.0796186053535635\n",
      "Training Accuracy after Epoch 32 : 79.77%\n",
      "Epoch 33: training loss = 1.066849299758851\n",
      "Training Accuracy after Epoch 33 : 79.85%\n",
      "Epoch 34: training loss = 1.054932149754288\n",
      "Training Accuracy after Epoch 34 : 80.14%\n",
      "Epoch 35: training loss = 1.0433421768598712\n",
      "Training Accuracy after Epoch 35 : 80.27%\n",
      "Epoch 36: training loss = 1.0321348099157448\n",
      "Training Accuracy after Epoch 36 : 80.69%\n",
      "Epoch 37: training loss = 1.0210895304886949\n",
      "Training Accuracy after Epoch 37 : 80.85%\n",
      "Epoch 38: training loss = 1.010533947180446\n",
      "Training Accuracy after Epoch 38 : 81.15%\n",
      "Epoch 39: training loss = 0.9999585090406793\n",
      "Training Accuracy after Epoch 39 : 81.28%\n",
      "Epoch 40: training loss = 0.9898790090294275\n",
      "Training Accuracy after Epoch 40 : 81.52%\n",
      "Epoch 41: training loss = 0.9798743499947784\n",
      "Training Accuracy after Epoch 41 : 81.68%\n",
      "Epoch 42: training loss = 0.9699957367047223\n",
      "Training Accuracy after Epoch 42 : 81.94%\n",
      "Epoch 43: training loss = 0.9606223233547585\n",
      "Training Accuracy after Epoch 43 : 82.04%\n",
      "Epoch 44: training loss = 0.9516820311015836\n",
      "Training Accuracy after Epoch 44 : 82.36%\n",
      "Epoch 45: training loss = 0.9426235943788845\n",
      "Training Accuracy after Epoch 45 : 82.46%\n",
      "Epoch 46: training loss = 0.9338323657712676\n",
      "Training Accuracy after Epoch 46 : 82.66%\n",
      "Epoch 47: training loss = 0.9253511653451765\n",
      "Training Accuracy after Epoch 47 : 82.79%\n",
      "Epoch 48: training loss = 0.9173292866053762\n",
      "Training Accuracy after Epoch 48 : 82.99%\n",
      "Epoch 49: training loss = 0.9092430004019078\n",
      "Training Accuracy after Epoch 49 : 83.16%\n",
      "Epoch 50: training loss = 0.9016295895505722\n",
      "Training Accuracy after Epoch 50 : 83.27%\n",
      "Epoch 51: training loss = 0.8937921881354851\n",
      "Training Accuracy after Epoch 51 : 83.36%\n",
      "Epoch 52: training loss = 0.8862636153302866\n",
      "Training Accuracy after Epoch 52 : 83.61%\n",
      "Epoch 53: training loss = 0.8786156676035807\n",
      "Training Accuracy after Epoch 53 : 83.74%\n",
      "Epoch 54: training loss = 0.8716650923079965\n",
      "Training Accuracy after Epoch 54 : 83.9%\n",
      "Epoch 55: training loss = 0.8644020841421404\n",
      "Training Accuracy after Epoch 55 : 84.0%\n",
      "Epoch 56: training loss = 0.8578382839893391\n",
      "Training Accuracy after Epoch 56 : 84.14%\n"
     ]
    }
   ],
   "source": [
    "W2,b2,W1,b1,li2,loss2=training(X_trainval,y_trainval,64,0.05,300,sigmoid, sigmoid_derivative)"
   ]
  },
  {
   "cell_type": "markdown",
   "metadata": {},
   "source": [
    "## Test Loss using configuration 2:"
   ]
  },
  {
   "cell_type": "code",
   "execution_count": null,
   "metadata": {},
   "outputs": [],
   "source": [
    "epochs = list(range(1,300+1))\n",
    "loss= loss2\n",
    "plt.figure(figsize=(15,7))\n",
    "plt.title('Test Loss using configuration 2', fontsize=15)\n",
    "plt.xlabel('Epochs', size=14)\n",
    "plt.ylabel('Loss', fontsize=14)\n",
    "plt.tick_params(labelsize=12);\n",
    "#plt.scatter(epochs,loss,alpha=1,c='green')\n",
    "plt.plot(epochs,loss,c='red')\n"
   ]
  },
  {
   "cell_type": "markdown",
   "metadata": {},
   "source": [
    "## Plotting training accuracies :"
   ]
  },
  {
   "cell_type": "code",
   "execution_count": null,
   "metadata": {},
   "outputs": [],
   "source": [
    "epochs = list(range(1,300+1))\n",
    "accuracies= li2\n",
    "plt.figure(figsize=(15,7))\n",
    "plt.title('Trends in Training Accuracies using configuration 2', fontsize=15)\n",
    "plt.xlabel('Epochs', size=14)\n",
    "plt.ylabel('Accuracies', fontsize=14)\n",
    "plt.tick_params(labelsize=12);\n",
    "plt.scatter(epochs,accuracies,alpha=1,c='green')\n",
    "plt.plot(epochs,accuracies)"
   ]
  },
  {
   "cell_type": "markdown",
   "metadata": {},
   "source": [
    "### Evaluating on Validation data using configuration 2:"
   ]
  },
  {
   "cell_type": "code",
   "execution_count": null,
   "metadata": {},
   "outputs": [],
   "source": [
    "labely_test,labelpred=testing(W2,b2,W1,b1,X_testval,y_testval,sigmoid)\n",
    "accuracy_val=accuracy(labely_test, labelpred)\n",
    "print(\"Accuracy on Validation data using configuration 2: {}%\".format(accuracy_val))\n",
    "acc2=accuracy_val"
   ]
  },
  {
   "cell_type": "code",
   "execution_count": null,
   "metadata": {},
   "outputs": [],
   "source": [
    "acc2"
   ]
  },
  {
   "cell_type": "markdown",
   "metadata": {},
   "source": [
    "### Configuration 3 :\n",
    "* Number of neurons = 128\n",
    "* Learning rate = 0.01\n",
    "* Iteratations =300\n",
    "* Activation Function : Sigmoid"
   ]
  },
  {
   "cell_type": "code",
   "execution_count": null,
   "metadata": {},
   "outputs": [],
   "source": [
    "W2,b2,W1,b1,li3,loss3=training(X_trainval,y_trainval,128,0.01,300,sigmoid,sigmoid_derivative)"
   ]
  },
  {
   "cell_type": "markdown",
   "metadata": {},
   "source": [
    "## Test Loss using configuration 3:"
   ]
  },
  {
   "cell_type": "code",
   "execution_count": null,
   "metadata": {},
   "outputs": [],
   "source": [
    "epochs = list(range(1,300+1))\n",
    "loss= loss3\n",
    "plt.figure(figsize=(15,7))\n",
    "plt.title('Test Loss using configuration 3', fontsize=15)\n",
    "plt.xlabel('Epochs', size=14)\n",
    "plt.ylabel('Loss', fontsize=14)\n",
    "plt.tick_params(labelsize=12);\n",
    "#plt.scatter(epochs,loss,alpha=1,c='green')\n",
    "plt.plot(epochs,loss,c='red')\n"
   ]
  },
  {
   "cell_type": "markdown",
   "metadata": {},
   "source": [
    "### Plotting training accuracies :"
   ]
  },
  {
   "cell_type": "code",
   "execution_count": null,
   "metadata": {},
   "outputs": [],
   "source": [
    "epochs = list(range(1,300+1))\n",
    "accuracies= li3\n",
    "plt.figure(figsize=(15,7))\n",
    "plt.title('Trends in Training Accuracies using configuration 3', fontsize=15)\n",
    "plt.xlabel('Epochs', size=14)\n",
    "plt.ylabel('Accuracies', fontsize=14)\n",
    "plt.tick_params(labelsize=12);\n",
    "plt.scatter(epochs,accuracies,alpha=1,c='green')\n",
    "plt.plot(epochs,accuracies)"
   ]
  },
  {
   "cell_type": "markdown",
   "metadata": {},
   "source": [
    "### Evaluating on Validation data using configuration 3:"
   ]
  },
  {
   "cell_type": "code",
   "execution_count": null,
   "metadata": {},
   "outputs": [],
   "source": [
    "labely_test,labelpred=testing(W2,b2,W1,b1,X_testval,y_testval,sigmoid)\n",
    "accuracy_val=accuracy(labely_test, labelpred)\n",
    "print(\"Accuracy on Validation data using configuration 3: {}%\".format(accuracy_val))\n",
    "acc3=accuracy_val"
   ]
  },
  {
   "cell_type": "markdown",
   "metadata": {},
   "source": [
    "### Configuration 4 :\n",
    "* Number of neurons = 128\n",
    "* Learning rate = 0.05\n",
    "* Iteratations =300\n",
    "* Activation Function : Sigmoid"
   ]
  },
  {
   "cell_type": "code",
   "execution_count": null,
   "metadata": {},
   "outputs": [],
   "source": [
    "W2,b2,W1,b1,li4,loss4=training(X_trainval,y_trainval,128,0.01,300,sigmoid,sigmoid_derivative)"
   ]
  },
  {
   "cell_type": "markdown",
   "metadata": {},
   "source": [
    "## Test Loss using configuration 4:"
   ]
  },
  {
   "cell_type": "code",
   "execution_count": null,
   "metadata": {},
   "outputs": [],
   "source": [
    "epochs = list(range(1,300+1))\n",
    "loss= loss4\n",
    "plt.figure(figsize=(15,7))\n",
    "plt.title('Test Loss using configuration 4', fontsize=15)\n",
    "plt.xlabel('Epochs', size=14)\n",
    "plt.ylabel('Loss', fontsize=14)\n",
    "plt.tick_params(labelsize=12);\n",
    "#plt.scatter(epochs,loss,alpha=1,c='green')\n",
    "plt.plot(epochs,loss,c='red')\n"
   ]
  },
  {
   "cell_type": "markdown",
   "metadata": {},
   "source": [
    "### Plotting training accuracies :"
   ]
  },
  {
   "cell_type": "code",
   "execution_count": null,
   "metadata": {},
   "outputs": [],
   "source": [
    "epochs = list(range(1,300+1))\n",
    "accuracies= li4\n",
    "plt.figure(figsize=(15,7))\n",
    "plt.title('Trends in Training Accuracies using configuration 4', fontsize=15)\n",
    "plt.xlabel('Epochs', size=14)\n",
    "plt.ylabel('Accuracies', fontsize=14)\n",
    "plt.tick_params(labelsize=12);\n",
    "plt.scatter(epochs,accuracies,alpha=1,c='green')\n",
    "plt.plot(epochs,accuracies)"
   ]
  },
  {
   "cell_type": "markdown",
   "metadata": {},
   "source": [
    "### Evaluating on Validation data using configuration 4:"
   ]
  },
  {
   "cell_type": "code",
   "execution_count": null,
   "metadata": {},
   "outputs": [],
   "source": [
    "labely_test,labelpred=testing(W2,b2,W1,b1,X_testval,y_testval,sigmoid)\n",
    "accuracy_val=accuracy(labely_test, labelpred)\n",
    "print(\"Accuracy on Validation data using configuration 4: {}%\".format(accuracy_val))\n",
    "acc4=accuracy_val"
   ]
  },
  {
   "cell_type": "markdown",
   "metadata": {},
   "source": [
    "### Configuration 5 :\n",
    "* Number of neurons = 64\n",
    "* Learning rate = 0.05\n",
    "* Iteratations =300\n",
    "* Activation Function : tanh"
   ]
  },
  {
   "cell_type": "code",
   "execution_count": null,
   "metadata": {},
   "outputs": [],
   "source": [
    "W2,b2,W1,b1,li5,loss5=training(X_trainval,y_trainval,64,0.05,300,tanh, tanh_derivative)"
   ]
  },
  {
   "cell_type": "markdown",
   "metadata": {},
   "source": [
    "### Test loss using Configuration 5:"
   ]
  },
  {
   "cell_type": "code",
   "execution_count": null,
   "metadata": {},
   "outputs": [],
   "source": [
    "epochs = list(range(1,300+1))\n",
    "loss= loss5\n",
    "plt.figure(figsize=(15,7))\n",
    "plt.title('Test Loss using configuration 5', fontsize=15)\n",
    "plt.xlabel('Epochs', size=14)\n",
    "plt.ylabel('Loss', fontsize=14)\n",
    "plt.tick_params(labelsize=12);\n",
    "#plt.scatter(epochs,loss,alpha=1,c='green')\n",
    "plt.plot(epochs,loss,c='red')"
   ]
  },
  {
   "cell_type": "markdown",
   "metadata": {},
   "source": [
    "### Plotting Training Accuracies:"
   ]
  },
  {
   "cell_type": "code",
   "execution_count": null,
   "metadata": {},
   "outputs": [],
   "source": [
    "epochs = list(range(1,300+1))\n",
    "accuracies= li5\n",
    "plt.figure(figsize=(15,7))\n",
    "plt.title('Trends in Training Accuracies using configuration 5', fontsize=15)\n",
    "plt.xlabel('Epochs', size=14)\n",
    "plt.ylabel('Accuracies', fontsize=14)\n",
    "plt.tick_params(labelsize=12);\n",
    "plt.scatter(epochs,accuracies,alpha=1,c='green')\n",
    "plt.plot(epochs,accuracies)"
   ]
  },
  {
   "cell_type": "markdown",
   "metadata": {},
   "source": [
    "### Evaluating on Validation Test data using Configuration 5 :"
   ]
  },
  {
   "cell_type": "code",
   "execution_count": null,
   "metadata": {},
   "outputs": [],
   "source": [
    "labely_test,labelpred=testing(W2,b2,W1,b1,X_testval,y_testval,tanh)\n",
    "accuracy_val=accuracy(labely_test, labelpred)\n",
    "print(\"Accuracy on Validation data using configuration 5: {}%\".format(accuracy_val))\n",
    "acc5=accuracy_val"
   ]
  },
  {
   "cell_type": "markdown",
   "metadata": {},
   "source": [
    "## Compiling the training accuracy observations as a whole :"
   ]
  },
  {
   "cell_type": "code",
   "execution_count": null,
   "metadata": {},
   "outputs": [],
   "source": [
    "plt.figure(figsize=(15,7))\n",
    "plt.title('Trends in Test Accuracies on Training Data', fontsize=15)\n",
    "plt.xlabel('Epochs', size=14)\n",
    "plt.ylabel('Accuracies', fontsize=14)\n",
    "plt.tick_params(labelsize=12);\n",
    "plt.plot( epochs,li1, marker='o', markerfacecolor='blue', markersize=2, color='skyblue', linewidth=2, label=\"config 1\")\n",
    "plt.plot( epochs,li2, marker='', color='olive', linewidth=2,linestyle='dashed', label=\"config 2\")\n",
    "plt.plot(epochs,li3, marker='', color='blue', linewidth=2, label=\"config 3\")\n",
    "plt.plot(epochs,li4, marker='', color='red', linewidth=2, label=\"config 4\")\n",
    "plt.plot(epochs,li5, marker='', color='black', linewidth=2, label=\"config 5\")\n",
    "plt.legend()"
   ]
  },
  {
   "cell_type": "markdown",
   "metadata": {},
   "source": [
    "* Here we can see that when used configuration 5, the model gives highest accuracy of predictions. We can see a steep curve with slight disturbances, converging to an optimal solution."
   ]
  },
  {
   "cell_type": "markdown",
   "metadata": {},
   "source": [
    "## Compiling the training loss observations as a whole :"
   ]
  },
  {
   "cell_type": "code",
   "execution_count": null,
   "metadata": {},
   "outputs": [],
   "source": [
    "plt.figure(figsize=(15,7))\n",
    "plt.title('Trends in Training Losses on Training Data', fontsize=15)\n",
    "plt.xlabel('Epochs', size=14)\n",
    "plt.ylabel('Training Loss', fontsize=14)\n",
    "plt.tick_params(labelsize=12);\n",
    "plt.plot( epochs,loss1, marker='o', markerfacecolor='blue', markersize=2, color='skyblue', linewidth=2, label=\"config 1\")\n",
    "plt.plot( epochs,loss2, marker='', color='olive', linewidth=2,linestyle='dashed', label=\"config 2\")\n",
    "plt.plot(epochs,loss3, marker='', color='blue', linewidth=2, label=\"config 3\")\n",
    "plt.plot(epochs,loss4, marker='', color='red', linewidth=2, label=\"config 4\")\n",
    "plt.plot(epochs,loss5, marker='', color='black', linewidth=2, label=\"config 5\")\n",
    "plt.legend()"
   ]
  },
  {
   "cell_type": "markdown",
   "metadata": {},
   "source": [
    "* Here we can see a significant decrease in training loss when used configuration 5, notice the steep curve."
   ]
  },
  {
   "cell_type": "markdown",
   "metadata": {},
   "source": [
    "## Plotting Test accuracies with different learning rates:"
   ]
  },
  {
   "cell_type": "code",
   "execution_count": null,
   "metadata": {},
   "outputs": [],
   "source": [
    "learning_rate=[0.01,0.05]\n",
    "accuracies=[acc1,acc2]\n",
    "plt.figure(figsize=(15,7))\n",
    "width=0.25\n",
    "plt.title('Trends in Test Accuracies with different learning rates', fontsize=15)\n",
    "plt.xlabel('Learning Rates', size=14)\n",
    "plt.ylabel('Accuracies', fontsize=14)\n",
    "plt.tick_params(labelsize=12);\n",
    "plt.scatter(learning_rate,accuracies,alpha=1,c='green')\n",
    "plt.plot(learning_rate,accuracies,width)"
   ]
  },
  {
   "cell_type": "markdown",
   "metadata": {},
   "source": [
    "* Here when I increased the learning rate from 0.01 to 0.05 keeping number of neurons same i.e 64, I observed a noticeable increase in accuracy. "
   ]
  },
  {
   "cell_type": "markdown",
   "metadata": {},
   "source": [
    "## Plotting Test accuracies with different number of neurons :"
   ]
  },
  {
   "cell_type": "code",
   "execution_count": null,
   "metadata": {},
   "outputs": [],
   "source": [
    "neurons=[64,128]\n",
    "accuracies=[acc1,acc3]\n",
    "plt.figure(figsize=(15,7))\n",
    "width=0.25\n",
    "plt.title('Trends in Test Accuracies with different number of neurons', fontsize=15)\n",
    "plt.xlabel('Neurons', size=14)\n",
    "plt.ylabel('Accuracies', fontsize=14)\n",
    "plt.tick_params(labelsize=12);\n",
    "plt.scatter(neurons,accuracies,alpha=1,c='green')\n",
    "plt.plot(neurons,accuracies,width)"
   ]
  },
  {
   "cell_type": "markdown",
   "metadata": {},
   "source": [
    "* Here when I increased the number of neurons from 64 to 128 keeping learning rate = 0.01, I observed and slight increase in the accuracy."
   ]
  },
  {
   "cell_type": "code",
   "execution_count": null,
   "metadata": {},
   "outputs": [],
   "source": [
    "acc2,acc5"
   ]
  },
  {
   "cell_type": "markdown",
   "metadata": {},
   "source": [
    "## Plotting Test accuracies using different activation functions :"
   ]
  },
  {
   "cell_type": "code",
   "execution_count": null,
   "metadata": {},
   "outputs": [],
   "source": [
    "activation =['Sigmoid','Tanh']\n",
    "accuracies=[acc2,acc5]\n",
    "plt.figure(figsize=(15,7))\n",
    "width=0.25\n",
    "plt.title('Trends in Test Accuracies with different type of activations', fontsize=15)\n",
    "plt.xlabel('Activation', size=15)\n",
    "plt.ylabel('Accuracies', fontsize=14)\n",
    "plt.tick_params(labelsize=12);\n",
    "plt.scatter(activation,accuracies,alpha=1,c='green')\n",
    "plt.plot(activation,accuracies,width)"
   ]
  },
  {
   "cell_type": "markdown",
   "metadata": {},
   "source": [
    "* Here we can see a noticeable increase in model performance when we used Tanh activation function.Tanh curve is steeper than the sigmoid curve, one of the reasons it helps the algorithm to converge is less number of epochs than sigmoid. "
   ]
  },
  {
   "cell_type": "markdown",
   "metadata": {},
   "source": [
    "## Plot to see trends in accuracies over all configurations :"
   ]
  },
  {
   "cell_type": "code",
   "execution_count": null,
   "metadata": {},
   "outputs": [],
   "source": [
    "configurations = [1,2,3,4,5]\n",
    "accuracies= [acc1,acc2,acc3,acc4,acc5]\n",
    "plt.figure(figsize=(15,7))\n",
    "plt.title('Trends in Test Accuracies over configurations', fontsize=15)\n",
    "plt.xlabel('Configuration', size=15)\n",
    "plt.ylabel('Accuracies', fontsize=14)\n",
    "plt.tick_params(labelsize=12);\n",
    "plt.scatter(configurations,accuracies,alpha=1,c='green')\n",
    "plt.plot(configurations,accuracies)\n"
   ]
  },
  {
   "cell_type": "markdown",
   "metadata": {},
   "source": [
    "* Here we can see after taking into account all the results obtained using all possible configurations by tweaking Learning rates and number of  and type of non-linerity activation function in the hidden layer, we observed that our model performed very well when we used configurations 2 and 5. Hence we will be using the best configuration out of the two that is configuration 5 on our model to achieve good results."
   ]
  },
  {
   "cell_type": "markdown",
   "metadata": {},
   "source": [
    "## Convergence Criteria :\n",
    "* For each configuration, the Testing function simply takes the updated weights retrieved from training function and runs our model on validation data thus returning probabilities of class labels. \n",
    "* Further, accuracy is calculated on validation data. I have tuned my weight parameters for 300 epochs and then tested my model since after 300th epoch, it was observed that the although the training accuracy was gradually increasing, the model showed almost no improvement in performance and no decrease in loss, that is, it has reached the point of convergence. \n",
    " "
   ]
  },
  {
   "cell_type": "markdown",
   "metadata": {},
   "source": [
    "# Question 4 :\n",
    "* After evaluating our model on Validation dataset using 4 configurations we will be training our model using the best configuration that is configuration 5 on our entire original Training dataset of 60,000 samples. Furthermore, we will evaluate our model on original Test data consisting of 10,000 samples."
   ]
  },
  {
   "cell_type": "markdown",
   "metadata": {},
   "source": [
    "## Final Configuration Used :\n",
    "* Number of neurons = 64\n",
    "* Learning rate = 0.05\n",
    "* Iteratations =300\n",
    "* Activation Function : tanh"
   ]
  },
  {
   "cell_type": "markdown",
   "metadata": {},
   "source": [
    "### Training our model using Configuration 5 on Entire Training Data :"
   ]
  },
  {
   "cell_type": "code",
   "execution_count": null,
   "metadata": {},
   "outputs": [],
   "source": [
    "X_train.shape, y_test.shape"
   ]
  },
  {
   "cell_type": "code",
   "execution_count": null,
   "metadata": {},
   "outputs": [],
   "source": [
    "W2,b2,W1,b1,accu_train,losstrain=training(X_train,y_train,64,0.05,300,tanh,tanh_derivative)"
   ]
  },
  {
   "cell_type": "markdown",
   "metadata": {},
   "source": [
    "### Test Loss:"
   ]
  },
  {
   "cell_type": "code",
   "execution_count": null,
   "metadata": {},
   "outputs": [],
   "source": [
    "epochs = list(range(1,300+1))\n",
    "loss= losstrain\n",
    "plt.figure(figsize=(15,7))\n",
    "plt.title('Test Loss using configuration 2', fontsize=15)\n",
    "plt.xlabel('Epochs', size=14)\n",
    "plt.ylabel('Loss', fontsize=14)\n",
    "plt.tick_params(labelsize=12);\n",
    "#plt.scatter(epochs,loss,alpha=1,c='green')\n",
    "plt.plot(epochs,loss,c='red')\n"
   ]
  },
  {
   "cell_type": "markdown",
   "metadata": {},
   "source": [
    "* Here we can see that the loss is decreasing gradually, that is our model is learning by taking into consideration the loss at after each iteration, and then computing the change in loss w.r.t weights. This gradient information is computed and back propogated to the hidden layers and input layer. Using this information, weights are updated again and these weights are used in feed forward network for the next iteration. In this way our model learns from the loss obtained after each epoch so that it performs better in the next epoch thus significantly reducing the loss and increasing performance of our model. "
   ]
  },
  {
   "cell_type": "markdown",
   "metadata": {},
   "source": [
    "### Plotting Training Accuracies :"
   ]
  },
  {
   "cell_type": "code",
   "execution_count": null,
   "metadata": {},
   "outputs": [],
   "source": [
    "epochs = list(range(1,300+1))\n",
    "accuracies= accu_train\n",
    "plt.figure(figsize=(15,7))\n",
    "plt.title('Trends in Test Accuracies on Entire Training Data', fontsize=15)\n",
    "plt.xlabel('Epochs', size=14)\n",
    "plt.ylabel('Accuracies', fontsize=14)\n",
    "plt.tick_params(labelsize=12);\n",
    "plt.scatter(epochs,accuracies,alpha=1,c='green')\n",
    "plt.plot(epochs,accuracies)"
   ]
  },
  {
   "cell_type": "markdown",
   "metadata": {},
   "source": [
    "* Here we can see a significant increase in our training accuracies using tanh activation function.Tanh curve is steeper than the sigmoid curve, one of the reasons it helps the algorithm to converge is less number of epochs than sigmoid. "
   ]
  },
  {
   "cell_type": "markdown",
   "metadata": {},
   "source": [
    "### Evaluating on Entire Test data :"
   ]
  },
  {
   "cell_type": "code",
   "execution_count": null,
   "metadata": {},
   "outputs": [],
   "source": [
    "labely_test,labelpred=testing(W2,b2,W1,b1,X_test,y_test,tanh)\n",
    "accuracy_val=accuracy(labely_test, labelpred)\n",
    "print(\"Accuracy on Entire Testing data using configuration 5: {}%\".format(accuracy_val))"
   ]
  },
  {
   "cell_type": "markdown",
   "metadata": {},
   "source": [
    "* We can see here that our model has performed significantly well on our Test data with a 91.3% accuracy. As our algorithm steps in further iterations, it's loss gradually decreases compared to the initial iterations where we can see a noticeable increase in accuracy and decrease in loss. With a 0.05 learning rate, slowly our algorithm tries to converge to a better solution. "
   ]
  },
  {
   "cell_type": "markdown",
   "metadata": {},
   "source": [
    "## Code Explanation :"
   ]
  },
  {
   "cell_type": "markdown",
   "metadata": {},
   "source": [
    "* Here I have implemented a Multiclass Neural Network classifier with one hidden layer. I have used idx2numpy library to convert the input file into a numpy array for conveneince. I reshaped the original training and testing data of dimensions (60,000 * 28 * 28) into 2D numpy array 60000 * 784. I have split the original Training data in ratio 70: 30 into training and validation data for Q3. \n",
    "* Each of the inputs will be connected with each of the following layer hidden neurons and will have an associated weight with it. Further each of the neurons in the hidden layer will be connected to each of the output layer neurons/class labels. Hence, I have initialized random weights and first set the bias to zero.\n",
    "* In the training function, our model will learn based on our training data. First, weights and bias will be initialized. Then in Feed Forward function we simply take the weights and bias and each of our input instances and compute the dot product of each feature vector in input data with all the weight vectors and add bias. \n",
    "* This outcome is passed through a non-linearity activation function. Here I have used two functions, Sigmoid and Tanh. This intermediate output is then carried forward in our network.\n",
    "* This intermediate output acting as input for the next layer, i.e the output layer. Dot product of this intermediate output with new weight vectors will be computed along with adding bias. The final outcome at the output layer will be then passed through another non-linearity activation function called as Softmax function which squeezes all the outcomes between 0 and 1 such that they all add up to 1. Hence what we receive is 10 probabilites for each instance which implies the probabilites that the input instance belongs to the class labels.\n",
    "* Loss is computed at each epoch using Cross entropy loss since it is used to deal with computing losses of outcomes that are in the form of probabilites. Backpropogation function calculates loss i.e error of each predicted output, and then computes the change in loss with respect to weights at each layer(gradient). This gradient information is sent back to the hidden layers so that the weights can get updated using Update Weights function for the next run. \n",
    "* Accuracy for each epoch is calculated by comparing argmax of each output vector (which is our corresponding class label) and the true class labels. \n",
    "* In such way, our model keeps learning from the loss gradually, and we notice an increase in accuracy for training data.\n",
    "* Using each of the mentioned configurations ,we evaluate our model on validation data to check which configuration gives a better performance of our model. \n",
    "* Hence I used the best configuration, 5th configuration and using this one, I trained my model using the entire training data 60000 instances and then evaluated it on my test data having 10,000 images and noted accuracy."
   ]
  },
  {
   "cell_type": "markdown",
   "metadata": {},
   "source": [
    "<div style=\"text-align: center\">\n",
    " \n",
    "# PERCEPTRON  <br>\n",
    "</div>\n",
    "<div style=\"text-align: justify\">"
   ]
  },
  {
   "cell_type": "markdown",
   "metadata": {},
   "source": [
    "Here my baseline model is my previous implementation of Single layer Multiclass Perceptron to compare its performance with current Neural Network Classifier."
   ]
  },
  {
   "cell_type": "markdown",
   "metadata": {},
   "source": [
    "### Function to prepend 1 to input data for bias term :"
   ]
  },
  {
   "cell_type": "code",
   "execution_count": null,
   "metadata": {},
   "outputs": [],
   "source": [
    "def add_ones(X): \n",
    "    return np.hstack((np.ones((X.shape[0], 1),dtype=int), X)) "
   ]
  },
  {
   "cell_type": "code",
   "execution_count": null,
   "metadata": {},
   "outputs": [],
   "source": [
    "X_train=add_ones(X_train)\n",
    "X_test=add_ones(X_test)\n",
    "X_train.shape, X_test.shape"
   ]
  },
  {
   "cell_type": "markdown",
   "metadata": {},
   "source": [
    "## Training Function :"
   ]
  },
  {
   "cell_type": "code",
   "execution_count": null,
   "metadata": {},
   "outputs": [],
   "source": [
    "\n",
    "    def training(X_train, y_train):\n",
    "        \n",
    "        dotprod=np.ndarray(10,dtype=np.float32)\n",
    "        weights=np.zeros((10,X_train.shape[1]), dtype=np.float32)\n",
    "        iterations=300                           # Number of epochs\n",
    "        alpha=0.05                              # Learning Rate\n",
    "        accu=[]\n",
    "        co=[]\n",
    "        for iter in range(iterations) : \n",
    "            count=0\n",
    "            for i in range(X_train.shape[0]): # iterating through each feature vector\n",
    "                for j in range(10):     # weight vectors equivalent to 10 class labels \n",
    "                    dotprod[j] = np.dot(X_train[i],weights[j])\n",
    "        \n",
    "                ind=y_train[i]                 # true class label\n",
    "                maxi=np.argmax(dotprod,axis=None)\n",
    "                y_pred=maxi             # got predicted corresponding class label\n",
    "       \n",
    "                if(y_pred!=y_train[i]):\n",
    "                #subtracting x input from old weight vector coress to predicted label \n",
    "                    weights[maxi] -= alpha*X_train[i]\n",
    "                  \n",
    "                #adding x input to old weight vector coress to true label \n",
    "                    weights[ind] += alpha*X_train[i]\n",
    "                    \n",
    "                elif(y_pred==y_train[i]):\n",
    "                    count=count+1\n",
    "                    \n",
    "            accuracy = round(((count/y_train.shape[0])*100), 2)\n",
    "            print(\"Accuracy after epoch \"+ str(iter)  + \" is : \",accuracy)\n",
    "            accu.append(accuracy)\n",
    "            #print(\"Count of correctly classified samples is : \" , count)\n",
    "            co.append(count)\n",
    "            \n",
    "        #zippedList =  list(zip(accu,co))\n",
    "        #df=pd.DataFrame(zippedList, columns = ['Accuracy in %', 'Correctly_classified_samples'],index=None)\n",
    "        #print(df)\n",
    " \n",
    "        return weights"
   ]
  },
  {
   "cell_type": "markdown",
   "metadata": {},
   "source": [
    "## Testing Function :"
   ]
  },
  {
   "cell_type": "code",
   "execution_count": null,
   "metadata": {},
   "outputs": [],
   "source": [
    "    def testing(X_test,w):\n",
    "        \n",
    "        ypred=[]\n",
    "        activ=[]\n",
    "        activ=np.dot(X_test,w.T)     #calculating activation\n",
    "        \n",
    "        for i in range(activ.shape[0]):\n",
    "            ypred.append(np.argmax(activ[i]))\n",
    "\n",
    "        return ypred           #predicted class label"
   ]
  },
  {
   "cell_type": "code",
   "execution_count": null,
   "metadata": {},
   "outputs": [],
   "source": [
    "y_train.shape, X_train.shape"
   ]
  },
  {
   "cell_type": "code",
   "execution_count": null,
   "metadata": {},
   "outputs": [],
   "source": [
    "w=training(X_train, y_train)  #got updated weights"
   ]
  },
  {
   "cell_type": "markdown",
   "metadata": {},
   "source": [
    "### Accuracy Calculation for Training Data:"
   ]
  },
  {
   "cell_type": "code",
   "execution_count": null,
   "metadata": {},
   "outputs": [],
   "source": [
    "predictions_for_Training=testing(X_train,w)         "
   ]
  },
  {
   "cell_type": "code",
   "execution_count": null,
   "metadata": {},
   "outputs": [],
   "source": [
    "count=0\n",
    "for i in range(y_train.shape[0]):\n",
    "    if predictions_for_Training[i]==y_train[i]:\n",
    "        count=count+1\n",
    "print(\"Number of samples correctly classified for training data : \", count)\n",
    "print('Accuracy in % :', accuracy_score(y_train,predictions_for_Training)*100)"
   ]
  },
  {
   "cell_type": "markdown",
   "metadata": {},
   "source": [
    "### Accuracy Calculation for Testing Data :"
   ]
  },
  {
   "cell_type": "code",
   "execution_count": null,
   "metadata": {},
   "outputs": [],
   "source": [
    "predictions_for_Testing=testing(X_test,w)"
   ]
  },
  {
   "cell_type": "code",
   "execution_count": null,
   "metadata": {},
   "outputs": [],
   "source": [
    "count=0\n",
    "for i in range(y_test.shape[0]):\n",
    "    if predictions_for_Testing[i]==y_test[i]:\n",
    "        count=count+1\n",
    "\n",
    "print(\"Number of samples correctly classified for testing data : \", count)\n",
    "print('Accuracy in % :', accuracy_score(y_test,predictions_for_Testing)*100)"
   ]
  },
  {
   "cell_type": "markdown",
   "metadata": {},
   "source": [
    "## Code Explanation :"
   ]
  },
  {
   "cell_type": "markdown",
   "metadata": {},
   "source": [
    "* Here I have implemented a single layer, Multi-class perceptron. I have prepended a column of 1's to the input data for simplification in case of bias term. A numpy weight array of dimensions(10,785) where (785 since 784 dimensions + bias term) has been declared.\n",
    "\n",
    "* In the training function, our model will learn based on our training data. With learning rate of 0.01 at each epoch, it calculates the dot product of each feature vector in input data with all the 10 weight vectors coressponding to the given 10 class labels. The index of the maximum dot product-value will be our coressponding  predicted class label.\n",
    "\n",
    "\n",
    "* If our predictions are correct, then simply store the count of correct prediction at each iteration. But if our prediction is incorrect, then the weights for the correct class are increased by x and the weights for the incorrectly predicted class are decreased by x. \n",
    "\n",
    "* Keep updating the weights for each iterations/epoch and compute the training accuracy to see variations. We will see that the accuracy has increased gradually. \n",
    "\n",
    "* But after a certain epoch, we may see that accuracy tends to be almost 100% that is tends to overfit our model on training data and perform poorly on testing data.\n",
    "\n",
    "* Testing function simply takes these updated weights retrieved from training function and runs our model on test data thus returning predicted class labels. \n",
    "* Further, accuracy is calculated for test data. I have tuned my weight parameters for 800 epochs and then tested my model since after th epoch, it was observed that the although the training accuracy was substantially increasing, the testing accuracy began to decline noticably, that is, it was trying to overfit the model. \n"
   ]
  },
  {
   "cell_type": "markdown",
   "metadata": {},
   "source": [
    "### Results Comparison :\n",
    "* As we can see here that when I tested my data on both the models, Neural Network Classifier and Multiclass Single layer Perceptron, we could see thart Neural Network Classifier performed very well compared to the Multiclass Perceptron. \n",
    "* By evaluating our Neural Network Classifier on Test data, we achieved the accuracy of 91.3% compared to when we tested our Multiclass Perceptron where the test accuracy was less, 87.16%. Here, in the latter model, there are no hidden layers involved. * Single Layer Perceptrons are used for classfying linearly separable data. The dot product of input values with weights are computed and weights are updated in a linear fashion. Whereas Neural Network Classifiers can be used to classify linearly inseparable data using Non-linearity Activation Functions.  "
   ]
  },
  {
   "cell_type": "code",
   "execution_count": null,
   "metadata": {},
   "outputs": [],
   "source": [
    "li1,li2,li3,li4,loss5"
   ]
  },
  {
   "cell_type": "code",
   "execution_count": null,
   "metadata": {},
   "outputs": [],
   "source": [
    "acc1,acc2,acc3,acc4,acc5"
   ]
  },
  {
   "cell_type": "code",
   "execution_count": null,
   "metadata": {},
   "outputs": [],
   "source": []
  },
  {
   "cell_type": "code",
   "execution_count": null,
   "metadata": {},
   "outputs": [],
   "source": []
  },
  {
   "cell_type": "code",
   "execution_count": null,
   "metadata": {},
   "outputs": [],
   "source": []
  },
  {
   "cell_type": "code",
   "execution_count": null,
   "metadata": {},
   "outputs": [],
   "source": []
  },
  {
   "cell_type": "code",
   "execution_count": null,
   "metadata": {},
   "outputs": [],
   "source": [
    "\n"
   ]
  }
 ],
 "metadata": {
  "kernelspec": {
   "display_name": "Python 3",
   "language": "python",
   "name": "python3"
  },
  "language_info": {
   "codemirror_mode": {
    "name": "ipython",
    "version": 3
   },
   "file_extension": ".py",
   "mimetype": "text/x-python",
   "name": "python",
   "nbconvert_exporter": "python",
   "pygments_lexer": "ipython3",
   "version": "3.7.4"
  }
 },
 "nbformat": 4,
 "nbformat_minor": 2
}
